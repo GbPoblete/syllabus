{
 "metadata": {
  "name": "",
  "signature": "sha256:98459846c4b1174ede5cb13aae11c45912262a9d622719683238c892fd2c087a"
 },
 "nbformat": 3,
 "nbformat_minor": 0,
 "worksheets": [
  {
   "cells": [
    {
     "cell_type": "markdown",
     "metadata": {},
     "source": [
      "<h2> Forma b\u00e1sica para crear una clase: </h2>"
     ]
    },
    {
     "cell_type": "code",
     "collapsed": false,
     "input": [
      "class Departamento:#CamelCase notation (PEP8)\n",
      "    '''Clase que representa un departamento en venta\n",
      "       valor esta en UF\n",
      "    '''\n",
      "    def __init__(self, id, mts2, valor, num_dorms, num_banos):\n",
      "        self.id = id\n",
      "        self.mts2 = mts2\n",
      "        self.valor = valor\n",
      "        self.num_dorms = num_dorms\n",
      "        self.num_banos = num_banos\n",
      "        self.vendido = False\n",
      "\n",
      "    def vender(self):\n",
      "        if not self.vendido:\n",
      "            self.vendido = True\n",
      "        else:\n",
      "            print(\"Departamento {} ya se vendio\".format(self.id))"
     ],
     "language": "python",
     "metadata": {},
     "outputs": [],
     "prompt_number": 9
    },
    {
     "cell_type": "code",
     "collapsed": false,
     "input": [
      "d1 = Departamento(id = 1, mts2 = 100, valor = 5000, num_dorms = 3, num_banos = 2)\n",
      "print(d1.vendido)\n",
      "d1.vender()\n",
      "print(d1.vendido)\n",
      "d1.vender()"
     ],
     "language": "python",
     "metadata": {},
     "outputs": [
      {
       "output_type": "stream",
       "stream": "stdout",
       "text": [
        "False\n",
        "True\n",
        "Departamento 1 ya se vendio\n"
       ]
      }
     ],
     "prompt_number": 10
    },
    {
     "cell_type": "markdown",
     "metadata": {},
     "source": [
      "<h2> Para ver una descripci\u00f3n de la clase: </h2>"
     ]
    },
    {
     "cell_type": "code",
     "collapsed": false,
     "input": [
      "help(Departamento)"
     ],
     "language": "python",
     "metadata": {},
     "outputs": [
      {
       "output_type": "stream",
       "stream": "stdout",
       "text": [
        "Help on class Departamento in module __main__:\n",
        "\n",
        "class Departamento(builtins.object)\n",
        " |  Clase que representa un departamento en venta\n",
        " |  valor esta en UF\n",
        " |  \n",
        " |  Methods defined here:\n",
        " |  \n",
        " |  __init__(self, id, mts2, valor, num_dorms, num_banos)\n",
        " |  \n",
        " |  vender(self)\n",
        " |  \n",
        " |  ----------------------------------------------------------------------\n",
        " |  Data descriptors defined here:\n",
        " |  \n",
        " |  __dict__\n",
        " |      dictionary for instance variables (if defined)\n",
        " |  \n",
        " |  __weakref__\n",
        " |      list of weak references to the object (if defined)\n",
        "\n"
       ]
      }
     ],
     "prompt_number": 11
    },
    {
     "cell_type": "code",
     "collapsed": false,
     "input": [
      "class PalabraSecreta:\n",
      "    \n",
      "    def __init__(self, palabra_clave, frase_secreta):\n",
      "        self.__palabra_clave = palabra_clave\n",
      "        self.__frase_secreta = frase_secreta\n",
      "        \n",
      "    def decriptar(self, frase_secreta):\n",
      "        if frase_secreta == self.__frase_secreta:\n",
      "            return self.__palabra_clave\n",
      "        else:\n",
      "            return ''"
     ],
     "language": "python",
     "metadata": {},
     "outputs": [],
     "prompt_number": 12
    },
    {
     "cell_type": "code",
     "collapsed": false,
     "input": [
      "s = PalabraSecreta(\"animal\", \"tiene patas\")\n",
      "s.decriptar(\"tiene patas\")\n",
      "s.__palabra_clave"
     ],
     "language": "python",
     "metadata": {},
     "outputs": [
      {
       "ename": "AttributeError",
       "evalue": "'PalabraSecreta' object has no attribute '__palabra_clave'",
       "output_type": "pyerr",
       "traceback": [
        "\u001b[0;31m---------------------------------------------------------------------------\u001b[0m\n\u001b[0;31mAttributeError\u001b[0m                            Traceback (most recent call last)",
        "\u001b[0;32m<ipython-input-13-8c97cd62d480>\u001b[0m in \u001b[0;36m<module>\u001b[0;34m()\u001b[0m\n\u001b[1;32m      1\u001b[0m \u001b[0ms\u001b[0m \u001b[0;34m=\u001b[0m \u001b[0mPalabraSecreta\u001b[0m\u001b[0;34m(\u001b[0m\u001b[0;34m\"animal\"\u001b[0m\u001b[0;34m,\u001b[0m \u001b[0;34m\"tiene patas\"\u001b[0m\u001b[0;34m)\u001b[0m\u001b[0;34m\u001b[0m\u001b[0m\n\u001b[1;32m      2\u001b[0m \u001b[0ms\u001b[0m\u001b[0;34m.\u001b[0m\u001b[0mdecriptar\u001b[0m\u001b[0;34m(\u001b[0m\u001b[0;34m\"tiene patas\"\u001b[0m\u001b[0;34m)\u001b[0m\u001b[0;34m\u001b[0m\u001b[0m\n\u001b[0;32m----> 3\u001b[0;31m \u001b[0ms\u001b[0m\u001b[0;34m.\u001b[0m\u001b[0m__palabra_clave\u001b[0m\u001b[0;34m\u001b[0m\u001b[0m\n\u001b[0m",
        "\u001b[0;31mAttributeError\u001b[0m: 'PalabraSecreta' object has no attribute '__palabra_clave'"
       ]
      }
     ],
     "prompt_number": 13
    },
    {
     "cell_type": "code",
     "collapsed": false,
     "input": [
      "s._PalabraSecreta__palabra_clave"
     ],
     "language": "python",
     "metadata": {},
     "outputs": [
      {
       "metadata": {},
       "output_type": "pyout",
       "prompt_number": 14,
       "text": [
        "'animal'"
       ]
      }
     ],
     "prompt_number": 14
    },
    {
     "cell_type": "code",
     "collapsed": false,
     "input": [
      "import datetime\n",
      "\n",
      "last_id = 0\n",
      "\n",
      "class PostIt:\n",
      "        def __init__(self, mensaje, tags = ''):\n",
      "            self.mensaje = mensaje\n",
      "            self.tags = tags\n",
      "            self.creation_date = datetime.date.today()\n",
      "            global last_id\n",
      "            last_id += 1\n",
      "            self.id = last_id\n",
      "            \n",
      "        def match(self, keyword):\n",
      "            return keyword in self.mensaje or keyword in self.tags\n"
     ],
     "language": "python",
     "metadata": {},
     "outputs": [],
     "prompt_number": 15
    },
    {
     "cell_type": "code",
     "collapsed": false,
     "input": [
      "class Panel:\n",
      "    \n",
      "    def __init__(self):\n",
      "        self.postit_set = {}\n",
      "        \n",
      "    def nuevo_postit(self, texto, tags = ''):\n",
      "        p = PostIt(texto, tags)\n",
      "        self.postit_set.update({p.id : p})\n",
      "\n",
      "    def modifica_mensaje(self, postit_id, mensaje_nuevo):\n",
      "        self.postit_set[postit_id].mensaje = mensaje_nuevo\n",
      "        \n",
      "    def modifica_tags(self, postit_id, tags_nuevos):    \n",
      "        self.postit_set[postit_id].tags = tags_nuevos\n",
      "        \n",
      "        \n",
      "    def buscar_postits(self, keyword):\n",
      "        return [p for p in self.postit_set.values() if p.match(keyword)]\n",
      "    \n",
      "\n",
      "    def display(self, keyword = None):\n",
      "        result = []\n",
      "        if keyword:\n",
      "            result = [p for p in self.buscar_postits(keyword)]\n",
      "        \n",
      "        else:\n",
      "            result = self.postit_set\n",
      "        \n",
      "        for p in result:\n",
      "            print(\"post it {0}: \\n Mensaje: {1} \\n Tags: {2}\".format(p.id, p.mensaje, p.tags))\n",
      "        "
     ],
     "language": "python",
     "metadata": {},
     "outputs": [],
     "prompt_number": 16
    },
    {
     "cell_type": "code",
     "collapsed": false,
     "input": [
      "import sys\n",
      "#from postit import PostIt, Panel#Aqu\u00ed no es necesario por el iPython, pero si tenemos un archivo separado para el menu hay que\n",
      "#importar estas clases\n",
      "\n",
      "class Menu:\n",
      "    def __init__(self):\n",
      "        self.panel = Panel()\n",
      "        self.opciones = {\n",
      "                        \"1\": self.display_postits,\n",
      "                        \"2\": self.buscar_postits,\n",
      "                        \"3\": self.agregar_postit,\n",
      "                        \"4\": self.modificar_postit,\n",
      "                        \"5\": self.salir\n",
      "                        }\n",
      "\n",
      "    def display_menu(self):\n",
      "        print(\"\"\"\n",
      "            Menu:\n",
      "                1: Mostrar Post-Its\n",
      "                2: Buscar Post-Its\n",
      "                3: Agregar nuevo Post-It\n",
      "                4: Modificar Post-It existente\n",
      "                5: Salir\n",
      "            \"\"\")\n",
      "\n",
      "    def run(self):\n",
      "\n",
      "        while True:\n",
      "            self.display_menu()\n",
      "            eleccion = input(\"Ingrese Opcion: \")\n",
      "            accion = self.opciones.get(eleccion)\n",
      "            if accion:\n",
      "                accion()#aqui se llama a la funcion\n",
      "            else:\n",
      "                print(\"{0} no es una opcion valida\".format(eleccion))\n",
      "\n",
      "\n",
      "    def display_postits(self, p_list = None):\n",
      "        if not p_list:\n",
      "            p_list = self.panel.postit_set.values()#si no dan la lista a mostrar, mostramos todos los post-its\n",
      "\n",
      "        if not p_list:\n",
      "            print(\"No hay Post-Its creados...\")\n",
      "        else:\n",
      "            for p in p_list:\n",
      "                print(\"post it {0}: \\n Mensaje: {1} \\n Tags: {2}\".format(p.id, p.mensaje, p.tags))\n",
      "\n",
      "\n",
      "    def buscar_postits(self):\n",
      "        keyword = input(\"Ingrese keyword: \")\n",
      "        postit_list = self.panel.buscar_postits(keyword)\n",
      "        self.display_postits(postit_list)\n",
      "\n",
      "    def agregar_postit(self):\n",
      "        mensaje = input(\"Ingrese Mensaje: \")\n",
      "        tag_list = input(\"Ingrese Tags separados por espacios: \")\n",
      "        tag_list = tag_list.split()#separa los strings por espacio y los pone en una lista\n",
      "        self.panel.nuevo_postit(mensaje, tag_list)\n",
      "        print(\"Nota creada exitosamente!!\")\n",
      "\n",
      "    def modificar_postit(self):\n",
      "        id = input(\"ingrese el id del Post-It que quiere modificar: \")\n",
      "        id = int(id)\n",
      "        mensaje = input(\"Ingrese el nuevo mensaje: \")\n",
      "        tag_list = input(\"Ingrese los nuevos tags separados por espacios: \")\n",
      "        if mensaje:\n",
      "            print(id)\n",
      "            self.panel.modifica_mensaje(id, mensaje)\n",
      "        if tag_list:\n",
      "            tag_list = tag_list.split()\n",
      "            self.panel.modifica_tags(id, tag_list)\n",
      "        print(\"postit modificado exitosamente!!\")\n",
      "            \n",
      "    def salir(self):\n",
      "        print(\"Gracias por usar nuestro Post-It\")\n",
      "        sys.exit(0)\n",
      "\n",
      "\n",
      "if __name__ == \"__main__\":#esto es para que corra en la consola\n",
      "    Menu().run()"
     ],
     "language": "python",
     "metadata": {},
     "outputs": [
      {
       "output_type": "stream",
       "stream": "stdout",
       "text": [
        "\n",
        "            Menu:\n",
        "                1: Mostrar Post-Its\n",
        "                2: Buscar Post-Its\n",
        "                3: Agregar nuevo Post-It\n",
        "                4: Modificar Post-It existente\n",
        "                5: Salir\n",
        "            \n"
       ]
      },
      {
       "name": "stdout",
       "output_type": "stream",
       "stream": "stdout",
       "text": [
        "Ingrese Opcion: 3\n"
       ]
      },
      {
       "name": "stdout",
       "output_type": "stream",
       "stream": "stdout",
       "text": [
        "Ingrese Mensaje: Estudiar progra\n"
       ]
      },
      {
       "name": "stdout",
       "output_type": "stream",
       "stream": "stdout",
       "text": [
        "Ingrese Tags separados por espacios: leer papers programacion\n"
       ]
      },
      {
       "output_type": "stream",
       "stream": "stdout",
       "text": [
        "Nota creada exitosamente!!\n",
        "\n",
        "            Menu:\n",
        "                1: Mostrar Post-Its\n",
        "                2: Buscar Post-Its\n",
        "                3: Agregar nuevo Post-It\n",
        "                4: Modificar Post-It existente\n",
        "                5: Salir\n",
        "            \n"
       ]
      },
      {
       "name": "stdout",
       "output_type": "stream",
       "stream": "stdout",
       "text": [
        "Ingrese Opcion: 3\n"
       ]
      },
      {
       "name": "stdout",
       "output_type": "stream",
       "stream": "stdout",
       "text": [
        "Ingrese Mensaje: Estudiar mucho programaci\u00f3n\n"
       ]
      },
      {
       "name": "stdout",
       "output_type": "stream",
       "stream": "stdout",
       "text": [
        "Ingrese Tags separados por espacios: leer programaci\u00f3n bastante\n"
       ]
      },
      {
       "output_type": "stream",
       "stream": "stdout",
       "text": [
        "Nota creada exitosamente!!\n",
        "\n",
        "            Menu:\n",
        "                1: Mostrar Post-Its\n",
        "                2: Buscar Post-Its\n",
        "                3: Agregar nuevo Post-It\n",
        "                4: Modificar Post-It existente\n",
        "                5: Salir\n",
        "            \n"
       ]
      },
      {
       "name": "stdout",
       "output_type": "stream",
       "stream": "stdout",
       "text": [
        "Ingrese Opcion: 2\n"
       ]
      },
      {
       "name": "stdout",
       "output_type": "stream",
       "stream": "stdout",
       "text": [
        "Ingrese keyword: mucho\n"
       ]
      },
      {
       "output_type": "stream",
       "stream": "stdout",
       "text": [
        "post it 2: \n",
        " Mensaje: Estudiar mucho programaci\u00f3n \n",
        " Tags: ['leer', 'programaci\u00f3n', 'bastante']\n",
        "\n",
        "            Menu:\n",
        "                1: Mostrar Post-Its\n",
        "                2: Buscar Post-Its\n",
        "                3: Agregar nuevo Post-It\n",
        "                4: Modificar Post-It existente\n",
        "                5: Salir\n",
        "            \n"
       ]
      },
      {
       "name": "stdout",
       "output_type": "stream",
       "stream": "stdout",
       "text": [
        "Ingrese Opcion: 1\n"
       ]
      },
      {
       "output_type": "stream",
       "stream": "stdout",
       "text": [
        "post it 1: \n",
        " Mensaje: Estudiar progra \n",
        " Tags: ['leer', 'papers', 'programacion']\n",
        "post it 2: \n",
        " Mensaje: Estudiar mucho programaci\u00f3n \n",
        " Tags: ['leer', 'programaci\u00f3n', 'bastante']\n",
        "\n",
        "            Menu:\n",
        "                1: Mostrar Post-Its\n",
        "                2: Buscar Post-Its\n",
        "                3: Agregar nuevo Post-It\n",
        "                4: Modificar Post-It existente\n",
        "                5: Salir\n",
        "            \n"
       ]
      },
      {
       "name": "stdout",
       "output_type": "stream",
       "stream": "stdout",
       "text": [
        "Ingrese Opcion: 4\n"
       ]
      }
     ]
    },
    {
     "cell_type": "code",
     "collapsed": false,
     "input": [],
     "language": "python",
     "metadata": {},
     "outputs": []
    }
   ],
   "metadata": {}
  }
 ]
}