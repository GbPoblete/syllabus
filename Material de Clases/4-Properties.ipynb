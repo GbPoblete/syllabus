{
 "metadata": {
  "name": "",
  "signature": "sha256:b0fb2e085b34cbe01087cd5083d29100f846e10cb02110949f875ce576bdcdf2"
 },
 "nbformat": 3,
 "nbformat_minor": 0,
 "worksheets": [
  {
   "cells": [
    {
     "cell_type": "markdown",
     "metadata": {},
     "source": [
      "<h1> Property: </h1>\n",
      "\n",
      "Con el keyword \"property\" podemos hacer que m\u00e9todos parezcan atributos"
     ]
    },
    {
     "cell_type": "code",
     "collapsed": false,
     "input": [
      "class Email:\n",
      "    def __init__(self, address):\n",
      "        self._email = address\n",
      "        \n",
      "    def _set_email(self, value):\n",
      "        if '@' not in value:\n",
      "            print(\"This doesn't look like an email address.\")#aqu\u00ed el ideal es levantar una excepci\u00f3n, eso se ver\u00e1 pronto\n",
      "        else:\n",
      "            self._email = value\n",
      "\n",
      "    def _get_email(self):\n",
      "        return self._email\n",
      "    \n",
      "    def _del_email(self):\n",
      "        print(\"Eliminaste el correo!!\")\n",
      "        del self._email    \n",
      "\n",
      "    email = property(_get_email, _set_email, _del_email, \"Esta propiedad corresponde al correo...\")"
     ],
     "language": "python",
     "metadata": {},
     "outputs": [],
     "prompt_number": 3
    },
    {
     "cell_type": "code",
     "collapsed": false,
     "input": [
      "help(Email)"
     ],
     "language": "python",
     "metadata": {},
     "outputs": [
      {
       "output_type": "stream",
       "stream": "stdout",
       "text": [
        "Help on class Email in module __main__:\n",
        "\n",
        "class Email(builtins.object)\n",
        " |  Methods defined here:\n",
        " |  \n",
        " |  __init__(self, address)\n",
        " |  \n",
        " |  ----------------------------------------------------------------------\n",
        " |  Data descriptors defined here:\n",
        " |  \n",
        " |  __dict__\n",
        " |      dictionary for instance variables (if defined)\n",
        " |  \n",
        " |  __weakref__\n",
        " |      list of weak references to the object (if defined)\n",
        " |  \n",
        " |  email\n",
        " |      Esta propiedad corresponde al correo...\n",
        "\n"
       ]
      }
     ],
     "prompt_number": 4
    },
    {
     "cell_type": "code",
     "collapsed": false,
     "input": [
      "m1 = Email(\"kp1@gmail.com\")\n",
      "print(m1.email)\n",
      "m1.email = \"kp2@gmail.com\"\n",
      "print(m1.email)\n",
      "m1.email = \"kp2.com\"\n",
      "del m1.email"
     ],
     "language": "python",
     "metadata": {},
     "outputs": [
      {
       "output_type": "stream",
       "stream": "stdout",
       "text": [
        "kp1@gmail.com\n",
        "kp2@gmail.com\n",
        "This doesn't look like an email address.\n",
        "Eliminaste el correo!!\n"
       ]
      }
     ],
     "prompt_number": 5
    },
    {
     "cell_type": "markdown",
     "metadata": {},
     "source": [
      "Ojo que el c\u00f3digo no nos prohibe hacer lo siguiente ()"
     ]
    },
    {
     "cell_type": "code",
     "collapsed": false,
     "input": [
      "m1._email = \"kp3.com\"\n",
      "print(m1.email)"
     ],
     "language": "python",
     "metadata": {},
     "outputs": [
      {
       "output_type": "stream",
       "stream": "stdout",
       "text": [
        "kp3.com\n"
       ]
      }
     ],
     "prompt_number": 6
    },
    {
     "cell_type": "markdown",
     "metadata": {},
     "source": [
      "<h2> Usando Properties con Decoradores </h2>\n",
      "Ejemplo: Para la clase Color usemos una property primero sin decorador"
     ]
    },
    {
     "cell_type": "code",
     "collapsed": false,
     "input": [
      "class Color:#version sin decorador\n",
      "    \n",
      "    def __init__(self, rgb_code, nombre):\n",
      "        self.rgb_code = rgb_code\n",
      "        self._nombre = nombre\n",
      "        \n",
      "    def set_nombre(self, nombre):\n",
      "        self._nombre = nombre\n",
      "        \n",
      "    def get_nombre(self):\n",
      "        return self._nombre\n",
      "        \n",
      "        \n",
      "    nombre = property(get_nombre, set_nombre)"
     ],
     "language": "python",
     "metadata": {},
     "outputs": [],
     "prompt_number": 7
    },
    {
     "cell_type": "code",
     "collapsed": false,
     "input": [
      "c = Color(\"#ff0000\", \"red\")\n",
      "print(c.nombre)"
     ],
     "language": "python",
     "metadata": {},
     "outputs": [
      {
       "output_type": "stream",
       "stream": "stdout",
       "text": [
        "red\n"
       ]
      }
     ],
     "prompt_number": 8
    },
    {
     "cell_type": "markdown",
     "metadata": {},
     "source": [
      "<h3>Ahora la misma clase con decorador:</h3>"
     ]
    },
    {
     "cell_type": "code",
     "collapsed": false,
     "input": [
      "class Color:#version con decorador\n",
      "    \n",
      "    def __init__(self, rgb_code, nombre):\n",
      "        self.rgb_code = rgb_code\n",
      "        self._nombre = nombre\n",
      "    \n",
      "    @property \n",
      "    def nombre(self):\n",
      "        print(\"Obteniendo el nombre del color\")\n",
      "        return self._nombre\n",
      "        \n",
      "    @nombre.setter    \n",
      "    def nombre(self, valor):\n",
      "        print(\"Estas seteando el valor en {}\".format(valor))\n",
      "        self._nombre = valor\n",
      "        \n",
      "    @nombre.deleter\n",
      "    def nombre(self):\n",
      "        print(\"Eliminaste el nombre!!\")\n",
      "        del self._nombre\n",
      "        "
     ],
     "language": "python",
     "metadata": {},
     "outputs": [],
     "prompt_number": 9
    },
    {
     "cell_type": "code",
     "collapsed": false,
     "input": [
      "c = Color(\"#ff0000\", \"red\")\n",
      "c.nombre = \"azul\"\n",
      "print(c.nombre)\n",
      "del c.nombre\n"
     ],
     "language": "python",
     "metadata": {},
     "outputs": [
      {
       "output_type": "stream",
       "stream": "stdout",
       "text": [
        "Estas seteando el valor en azul\n",
        "Obteniendo el nombre del color\n",
        "azul\n",
        "Eliminaste el nombre!!\n"
       ]
      }
     ],
     "prompt_number": 10
    },
    {
     "cell_type": "markdown",
     "metadata": {},
     "source": [
      "<h3> Las properties con decoradores tambi\u00e9n pueden involucar acciones que dependen de variables de la clase: </h3>"
     ]
    },
    {
     "cell_type": "code",
     "collapsed": false,
     "input": [
      "class Circulo:\n",
      "    def __init__(self, radio):\n",
      "        self._radio = radio\n",
      "\n",
      "    @property\n",
      "    def area(self):\n",
      "        return self._radio**2 * 3.14\n"
     ],
     "language": "python",
     "metadata": {},
     "outputs": [],
     "prompt_number": 11
    },
    {
     "cell_type": "code",
     "collapsed": false,
     "input": [
      "c = Circulo(2)\n",
      "print(c._radio)\n",
      "print(c.area)\n",
      "c._radio = 4\n",
      "print(c._radio)\n",
      "print(c.area)"
     ],
     "language": "python",
     "metadata": {},
     "outputs": [
      {
       "output_type": "stream",
       "stream": "stdout",
       "text": [
        "2\n",
        "12.56\n",
        "4\n",
        "50.24\n"
       ]
      }
     ],
     "prompt_number": 12
    },
    {
     "cell_type": "markdown",
     "metadata": {},
     "source": [
      "<h2> \u00bfCu\u00e1ndo usar properties? </h2>\n",
      "\n",
      "En general cuando tenemos datos en una clase en la cual despu\u00e9s le agregaremos comportamiento, ya que una \"property\" es un atributo para el cual podemos invocar acciones autom\u00e1ticamente cuando la propiedad es obtenida, o seteada o eliminada.\n",
      "\n",
      "Un t\u00edpico ejemplo de acci\u00f3n invocada es cuando hacemos \"catching\", por ejemplo, un atributo que corresponde al contenido de una p\u00e1gina web, si nos lo piden por primera vez bajamos el contenido y lo guardarmos, de tal forma que para los pr\u00f3ximos accesos podemos retornar el contenido guardado sin la necesidad de bajarlo de nuevo.\n",
      "\n"
     ]
    },
    {
     "cell_type": "code",
     "collapsed": false,
     "input": [
      "from urllib.request import urlopen\n",
      "\n",
      "class WebPage:\n",
      "    def __init__(self, url):\n",
      "        self.url = url\n",
      "        self._content = None\n",
      "        \n",
      "    @property\n",
      "    def content(self):\n",
      "        if not self._content:\n",
      "            print(\"Obteniendo P\u00e1gina Web...\")\n",
      "            self._content = urlopen(self.url).read()\n",
      "        return self._content\n",
      "        \n",
      "        "
     ],
     "language": "python",
     "metadata": {},
     "outputs": [],
     "prompt_number": 13
    },
    {
     "cell_type": "code",
     "collapsed": false,
     "input": [
      "import time\n",
      "page = WebPage(\"http://www.puc.cl\")\n",
      "now = time.time() #Return the time in seconds\n",
      "contenido_1 = page.content\n",
      "print(\"Tiempo en obtener la p\u00e1gina por primera vez: {}\".format(time.time() - now))\n",
      "now = time.time()\n",
      "contenido_2 = page.content\n",
      "print(\"Tiempo en obtener la p\u00e1gina por segunda vez: {}\".format(time.time() - now))\n",
      "contenido_1 == contenido_2"
     ],
     "language": "python",
     "metadata": {},
     "outputs": [
      {
       "output_type": "stream",
       "stream": "stdout",
       "text": [
        "Obteniendo P\u00e1gina Web...\n",
        "Tiempo en obtener la p\u00e1gina por primera vez: 1.020585060119629"
       ]
      },
      {
       "output_type": "stream",
       "stream": "stdout",
       "text": [
        "\n",
        "Tiempo en obtener la p\u00e1gina por segunda vez: 0.00023293495178222656\n"
       ]
      },
      {
       "metadata": {},
       "output_type": "pyout",
       "prompt_number": 14,
       "text": [
        "True"
       ]
      }
     ],
     "prompt_number": 14
    }
   ],
   "metadata": {}
  }
 ]
}