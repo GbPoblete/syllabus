{
 "metadata": {
  "name": "",
  "signature": "sha256:c3655c2b12c17d1ba06544f3a7ef744835b9fd5b22262c6ad4797d671a07c531"
 },
 "nbformat": 3,
 "nbformat_minor": 0,
 "worksheets": [
  {
   "cells": [
    {
     "cell_type": "markdown",
     "metadata": {},
     "source": [
      "<h2> Polimorfismo: </h2>\n",
      "\n",
      "El polimorfismo en general tiene sentido cuando existen distintas subclases que implementan el mismo m\u00e9todo de formas distintas. Overriding y Overloading son dos formas de polimorfismo.\n",
      "\n",
      "<h2> Overriding: </h2> Ocurre cuando se implementa un m\u00e9todo en una subclase que \"invalida\" la implementaci\u00f3n del mismo m\u00e9todo en la super clase\n",
      "   \n",
      "   <h2> Overloading: </h2> Es la capacidad de definir un m\u00e9todo con el mismo nombre pero con distinto n\u00famero y tipo de argumentos. Es la capacidad de una funci\u00f3n de ejecutar distintas acciones dependiendo del tipo y n\u00famero de argumentos que recibe. \n",
      "  \n",
      "  Python no soporta Overloading (en realidad no es necesario), se puede \"simular\" usando algunos par\u00e1metros con valores por defecto o n\u00famero de argumentos variables, pero no se puede definir la funci\u00f3n m\u00e1s de una vez con distintos tipos y n\u00fameros de argumentos y esperar que ambas definiciones sean consideradas por el programa.\n",
      "   \n",
      "\n",
      "<h3> Ejemplo: </h3>\n",
      "\n",
      "La clase variable representa un conjunto de datos cualquiera, mientras que la subclase Ingresos contiene un m\u00e9todo para calcular el valor \"representante\" (algo as\u00ed como el promedio, mediana, moda, etc.). Ocurre lo mismo con las subclases Comuna y Puesto: \n",
      "\n",
      "Si los datos corresponden a ingresos, el representante es el promedio. \n",
      "Si los datos corresponden a la comuna, el representante es la comuna que m\u00e1s se repite. \n",
      "Finalmente, si los datos corresponden al puesto de trabajo, entonces el representante es el que tiene el puesto m\u00e1s alto seg\u00fan la jerarqu\u00eda especificada en el diccionario \"categor\u00edas\"."
     ]
    },
    {
     "cell_type": "code",
     "collapsed": false,
     "input": [
      "import numpy  as np\n",
      "\n",
      "class Variable:\n",
      "    def __init__(self, data):\n",
      "        self.data = np.array(data)\n",
      "\n",
      "    def Representante(self):\n",
      "        pass\n",
      "\n",
      "\n",
      "class Ingresos(Variable):\n",
      "    def Representante(self):\n",
      "        return np.mean(self.data)\n",
      "\n",
      "\n",
      "class Comuna(Variable):\n",
      "    def Representante(self):\n",
      "        ind = np.argmax([np.sum(self.data == c) for c in self.data])#el que mas se repite\n",
      "        return self.data[ind]\n",
      "\n",
      "\n",
      "class Puesto(Variable):\n",
      "    categorias = {'Gerente': 1, 'SubGerente': 2, 'Analista': 3, 'Alumno en Practica': 4}# class (or static) variable\n",
      "\n",
      "    def Representante(self):\n",
      "        return self.data[np.argmin([Puesto.categorias[c] for c in self.data])]#la categoria mas alta acorde con el diccionario\n",
      "\n"
     ],
     "language": "python",
     "metadata": {},
     "outputs": [],
     "prompt_number": 2
    },
    {
     "cell_type": "code",
     "collapsed": false,
     "input": [
      "lista_pesos = Ingresos([50, 80, 90, 150, 45, 65, 78, 89, 59, 77, 90])\n",
      "lista_comunas = Comuna(['Providencia', 'Macul' , 'LaReina' ,'Santiago', 'Providencia', 'PuenteAlto', 'Macul', 'Santiago', 'Santiago' ])\n",
      "lista_puestos = Puesto(['SubGerente', 'Analista','SubGerente','Analista','Alumno en Practica','Alumno en Practica'])\n",
      "\n",
      "\n",
      "print(lista_pesos.Representante())\n",
      "print(lista_comunas.Representante())\n",
      "print(lista_puestos.Representante())\n"
     ],
     "language": "python",
     "metadata": {},
     "outputs": [
      {
       "output_type": "stream",
       "stream": "stdout",
       "text": [
        "79.3636363636\n",
        "Santiago\n",
        "SubGerente\n"
       ]
      }
     ],
     "prompt_number": 3
    },
    {
     "cell_type": "markdown",
     "metadata": {},
     "source": [
      "<h1> Overriding de operadores en Python </h1>\n",
      "\n",
      "Existen muchos operadores en Python que funcionan para varias de las clases \"built-in\". Por ejemplo, el operador \"+\" puede sumar dos n\u00fameros, concatenar dos strings, mezclar dos listas, etc. dependiendo de la clase con la que lo estemos usando:"
     ]
    },
    {
     "cell_type": "code",
     "collapsed": false,
     "input": [
      "a = [1,2,3,4]\n",
      "b = [5,6,7,8]\n",
      "print(a+b)\n",
      "c = \"Hola\"\n",
      "d = \" Mundo\"\n",
      "print(c+d)"
     ],
     "language": "python",
     "metadata": {},
     "outputs": [
      {
       "output_type": "stream",
       "stream": "stdout",
       "text": [
        "[1, 2, 3, 4, 5, 6, 7, 8]\n",
        "Hola Mundo\n"
       ]
      }
     ],
     "prompt_number": 4
    },
    {
     "cell_type": "markdown",
     "metadata": {},
     "source": [
      "Nosotros tambi\u00e9n podemos personalizar el m\u00e9todo \\_\\_add\\_\\_ para que funcione en alg\u00fan tipo de clase espec\u00edfica que necesitemos. Por ejemplo, supongamos una clase que representa un carro de compra:"
     ]
    },
    {
     "cell_type": "code",
     "collapsed": false,
     "input": [
      "class Carro():\n",
      "    ''' Un carro de compras lo representaremos como un diccionario \n",
      "        donde el key es el nombre del producto y el value es la cantidad\n",
      "        Ej: {'pan' : 3, 'leche' : 2, 'agua' : 6}\n",
      "    '''\n",
      "    def __init__(self, lista_productos):\n",
      "        self.lista_productos = lista_productos\n",
      "\n",
      "    def __add__(self, otro_carro):\n",
      "        lista_sumada = self.lista_productos\n",
      "        for p in otro_carro.lista_productos.keys():#aqu\u00ed vamos recorriendo los nombres de los productos\n",
      "            if p in self.lista_productos.keys():\n",
      "                lista_sumada.update({ p : otro_carro.lista_productos[p] + self.lista_productos[p]})#aqu\u00ed creo la nueva instancia con las cantidades sumada\n",
      "            else:\n",
      "                lista_sumada.update({ p : otro_carro.lista_productos[p]})\n",
      "                \n",
      "        return Carro(lista_sumada)\n",
      "    \n",
      "    def __repr__(self):\n",
      "        return \"\\n\".join(\"Producto: {} | Cantidad: {}\".format(p, self.lista_productos[p]) for p in self.lista_productos.keys())\n",
      "    \n",
      "    "
     ],
     "language": "python",
     "metadata": {},
     "outputs": [],
     "prompt_number": 11
    },
    {
     "cell_type": "code",
     "collapsed": false,
     "input": [
      "carro_1 = Carro({'pan' : 3, 'leche' : 2, 'agua' : 6})\n",
      "carro_2 = Carro({'leche' : 5, 'bebida' : 2, 'cerveza' : 12})\n",
      "carro_3 = carro_1 + carro_2\n",
      "print(carro_3.lista_productos)"
     ],
     "language": "python",
     "metadata": {},
     "outputs": [
      {
       "output_type": "stream",
       "stream": "stdout",
       "text": [
        "{'bebida': 2, 'leche': 7, 'agua': 6, 'pan': 3, 'cerveza': 12}\n"
       ]
      }
     ],
     "prompt_number": 12
    },
    {
     "cell_type": "markdown",
     "metadata": {},
     "source": [
      "Gracias al m\u00e9todo __repr__ pudimos personalizar la forma de imprimir el objeto carro, por lo tanto podemos\n",
      "imprimirlo directamente, sin llamar al diccionario:"
     ]
    },
    {
     "cell_type": "code",
     "collapsed": false,
     "input": [
      "print(carro_3)"
     ],
     "language": "python",
     "metadata": {},
     "outputs": [
      {
       "output_type": "stream",
       "stream": "stdout",
       "text": [
        "Producto: bebida | Cantidad: 2\n",
        "Producto: leche | Cantidad: 7\n",
        "Producto: agua | Cantidad: 6\n",
        "Producto: pan | Cantidad: 3\n",
        "Producto: cerveza | Cantidad: 12\n"
       ]
      }
     ],
     "prompt_number": 13
    },
    {
     "cell_type": "markdown",
     "metadata": {},
     "source": [
      "De la misma forma podemos personalizar la mayor\u00eda de los operadores, por ejemplo, el operador \"menor que\":"
     ]
    },
    {
     "cell_type": "code",
     "collapsed": false,
     "input": [
      "class Punto: \n",
      "    def __init__(self, x, y): \n",
      "        self.x = x \n",
      "        self.y = y\n",
      "    \n",
      "    def __lt__(self, otro_punto): \n",
      "        self_mag = (self.x ** 2) + (self.y ** 2) \n",
      "        otro_punto_mag = (otro_punto.x ** 2) + (otro_punto.y ** 2) \n",
      "        return self_mag < otro_punto_mag\n",
      "\n",
      "p1 = Punto(2,4)\n",
      "p2 = Punto(8,3)\n",
      "print(p1 < p2)"
     ],
     "language": "python",
     "metadata": {},
     "outputs": [
      {
       "output_type": "stream",
       "stream": "stdout",
       "text": [
        "True\n"
       ]
      }
     ],
     "prompt_number": 14
    },
    {
     "cell_type": "markdown",
     "metadata": {},
     "source": [
      "<h1> Duck Typing:</h1> \"if it walks like a duck and quacks like a duck then it is a duck\" (no importa el tipo de objeto si contiene la acci\u00f3n)\n",
      " \n",
      " Duck typing es una caracter\u00edstica de algunos lenguajes que hace que el polimorfismo sea menos atractivo, ya que el lenguaje por s\u00ed s\u00f3lo es capaz de generar comportamiento polim\u00f3rfico sin la necesidad de implementar el polimorfismo a trav\u00e9s de la herencia. La idea de duck typing es muy similar a la de polimorfismo, pero dentro del contexto del lenguaje en vez del contexto de la herencia:\n",
      "\n",
      " Idea: no importa de qu\u00e9 tipo es un objeto, simplemente importa que sea capaz de realizar la acci\u00f3n que uno quiere. \n",
      " \n",
      " "
     ]
    },
    {
     "cell_type": "code",
     "collapsed": false,
     "input": [
      "class Pato:\n",
      "    def gritar(self):\n",
      "        print(\"Quack!\")\n",
      "    def caminar(self):\n",
      "        print(\"caminando como un pato...\")        \n",
      "    \n",
      "class Persona:\n",
      "    def gritar(self):\n",
      "        print(\"Ahhh!\")\n",
      "    def caminar(self):\n",
      "        print(\"caminando como un humano...\")        \n",
      "\n",
      "def activar(pato):\n",
      "    pato.gritar()\n",
      "    pato.caminar()\n",
      "\n",
      "\n",
      "donald = Pato()\n",
      "juan = Persona()\n",
      "activar(donald)\n",
      "activar(juan)\n",
      "\n"
     ],
     "language": "python",
     "metadata": {},
     "outputs": [
      {
       "output_type": "stream",
       "stream": "stdout",
       "text": [
        "Quack!\n",
        "caminando como un pato...\n",
        "Ahhh!\n",
        "caminando como un humano...\n"
       ]
      }
     ],
     "prompt_number": 9
    },
    {
     "cell_type": "code",
     "collapsed": false,
     "input": [],
     "language": "python",
     "metadata": {},
     "outputs": []
    }
   ],
   "metadata": {}
  }
 ]
}