{
 "metadata": {
  "name": "",
  "signature": "sha256:78e75c8a25604b5297d5489c16c10bb552361d8b16a0271e5b45b2516ef21d0d"
 },
 "nbformat": 3,
 "nbformat_minor": 0,
 "worksheets": [
  {
   "cells": [
    {
     "cell_type": "heading",
     "level": 1,
     "metadata": {},
     "source": [
      "Diccionarios"
     ]
    },
    {
     "cell_type": "markdown",
     "metadata": {},
     "source": [
      "Los diccionarios corresponden a estructuras de datos orientadas a la asociaci\u00f3n de pares de elementos mediante una relaci\u00f3n: llave-valor. Esta relaci\u00f3n permite que la b\u00fasqueda de los elementos se realice de forma eficiente mediante el uso de la llave, quien indica la posici\u00f3n de memoria donde est\u00e1 contenido su valor asociado. Los diccionarios est\u00e1n implementados como tablas de hash cuya complejidad es de O(1), independiente del n\u00famero de datos que posea la estructura.\n",
      "\n",
      "\n",
      "<img src=\"img/hash-table.png\" width=50%>"
     ]
    },
    {
     "cell_type": "markdown",
     "metadata": {},
     "source": [
      "En python los diccionarios se denotan como {}. Se debe especificar la llave y el valor, asociadas mediante ':'. Las llaves en los diccionarios pueden ser cualquier tipo de variable inmutable: int, str, tuple, etc. Su creaci\u00f3n se realiza como sigue:"
     ]
    },
    {
     "cell_type": "code",
     "collapsed": false,
     "input": [
      "perros = {'bc': 'border-collie', 'lr': 'labrador retriever', 'pg': 'pug'}\n",
      "telefonos = {23545344: 'Juanito', 23545340: 'Sole', 23545342: 'Ignacio'}\n",
      "tuplas = {('23545344', 0): 'oficina', ('2353445340', 1): 'secretaria'}\n",
      "\n",
      "print(perros)\n",
      "print(tuplas)"
     ],
     "language": "python",
     "metadata": {},
     "outputs": [
      {
       "output_type": "stream",
       "stream": "stdout",
       "text": [
        "{'bc': 'border-collie', 'pg': 'pug', 'lr': 'labrador retriever'}\n",
        "{('23545344', 0): 'oficina', ('2353445340', 1): 'secretaria'}\n"
       ]
      }
     ],
     "prompt_number": 54
    },
    {
     "cell_type": "markdown",
     "metadata": {},
     "source": [
      "La referenciaci\u00f3n mediante llaves es incluso m\u00e1s flexible. Las llaves dentro de un diccionario pueden ser de distinto tipo. En el ejemplo notar que el ordenamiento no est\u00e1 relacionado al orden de ingreso de los valores."
     ]
    },
    {
     "cell_type": "code",
     "collapsed": false,
     "input": [
      "varios = {1:'primera llave', '2': 'segunda llave', 23.0: 'tercera llave', (23,5): 'cuarta llave'}\n",
      "print(varios)"
     ],
     "language": "python",
     "metadata": {},
     "outputs": [
      {
       "output_type": "stream",
       "stream": "stdout",
       "text": [
        "{'2': 'segunda llave', 1: 'primera llave', (23, 5): 'cuarta llave', 23.0: 'tercera llave'}\n"
       ]
      }
     ],
     "prompt_number": 57
    },
    {
     "cell_type": "markdown",
     "metadata": {},
     "source": [
      " Los contenidos del diccionario no est\u00e1n ordenados seg\u00fan ingreso como ocurre en las tuplas y listas. Para acceder a cada valor se utiliza la llave dentro de []"
     ]
    },
    {
     "cell_type": "code",
     "collapsed": false,
     "input": [
      "print(perros['bc'])\n",
      "print(telefonos[23545344])\n",
      "print(tuplas[('23545344', 0)])"
     ],
     "language": "python",
     "metadata": {},
     "outputs": [
      {
       "output_type": "stream",
       "stream": "stdout",
       "text": [
        "border-collie\n",
        "Juanito\n",
        "oficina\n"
       ]
      }
     ],
     "prompt_number": 55
    },
    {
     "cell_type": "markdown",
     "metadata": {},
     "source": [
      "Los diccionarios son estructuras de datos mutables, es dicir, su contenido puede cambiar a lo largo del programa. Si se asigna un valor a una llave existen dos comportamientos posibles: si la llave no existe, esta se crea y se le asigna un valor; si la llave ya existe, se le asigna un nuevo valor."
     ]
    },
    {
     "cell_type": "code",
     "collapsed": false,
     "input": [
      "perros['te'] = 'terrier'\n",
      "print(perros)\n",
      "\n",
      "perros['pg'] = 'pug-pug'"
     ],
     "language": "python",
     "metadata": {},
     "outputs": [
      {
       "output_type": "stream",
       "stream": "stdout",
       "text": [
        "{'bc': 'border-collie', 'te': 'terrier', 'pg': 'pug', 'lr': 'labrador retriever'}\n"
       ]
      }
     ],
     "prompt_number": 19
    },
    {
     "cell_type": "markdown",
     "metadata": {},
     "source": [
      "Se puede eliminar items desde el diccionario utilizando la sentencia del"
     ]
    },
    {
     "cell_type": "code",
     "collapsed": false,
     "input": [
      "del perros['te']\n",
      "print(perros)"
     ],
     "language": "python",
     "metadata": {},
     "outputs": [
      {
       "output_type": "stream",
       "stream": "stdout",
       "text": [
        "{'bc': 'border-collie', 'pg': 'pug-pug', 'lr': 'labrador retriever'}\n"
       ]
      }
     ],
     "prompt_number": 20
    },
    {
     "cell_type": "markdown",
     "metadata": {},
     "source": [
      "Para comprobar la existencia de una llave en el diccionario se puede utilizar la sentencia in. El comportamiento por defecto al utilizar sentencias sobre el diccionario es operar sobre los valores de las llaves. En el caso de in devuelve True si la llave requerida existe dentro de las llaves en el diccionario"
     ]
    },
    {
     "cell_type": "code",
     "collapsed": false,
     "input": [
      "print('pg' in perros)\n",
      "print('te' in perros)"
     ],
     "language": "python",
     "metadata": {},
     "outputs": [
      {
       "output_type": "stream",
       "stream": "stdout",
       "text": [
        "True\n",
        "False\n"
       ]
      }
     ],
     "prompt_number": 30
    },
    {
     "cell_type": "markdown",
     "metadata": {},
     "source": [
      "Otra forma consiste en utilizar el m\u00e9todo get que posee la clase diccionario. Este m\u00e9todo require dos par\u00e1metros: la llave buscada y un valor en caso que la llave no exista."
     ]
    },
    {
     "cell_type": "code",
     "collapsed": false,
     "input": [
      "print(perros.get('pg', False))\n",
      "print(perros.get('te', False))\n",
      "print(perros.get('te', 'No existe el perro'))"
     ],
     "language": "python",
     "metadata": {},
     "outputs": [
      {
       "output_type": "stream",
       "stream": "stdout",
       "text": [
        "pug-pug\n",
        "False\n",
        "No existe el perro\n"
       ]
      }
     ],
     "prompt_number": 34
    },
    {
     "cell_type": "markdown",
     "metadata": {},
     "source": [
      "Una aplicaci\u00f3n t\u00edpica de esto es el llenado de diccionarios vac\u00edos como por ejemplo contando letras, debido a que en principio es dif\u00edcil saber que letras aparecer\u00e1n y cu\u00e1ntas."
     ]
    },
    {
     "cell_type": "code",
     "collapsed": false,
     "input": [
      "msg = 'supercalifragilisticoespialidoso' # una cadena de string\n",
      "vocales = dict() # diccionario vacio, puesto que no sabemos cuales y cuantas vocales apareceran\n",
      "\n",
      "for v in msg:\n",
      "    if v not in 'aeiou': # revisa si v es una vocal\n",
      "        continue\n",
      "        \n",
      "    if v not in vocales: # revisa si v existe en el diccionario, si no la crea en 0\n",
      "        vocales[v] = 0\n",
      "\n",
      "    vocales[v] += 1 # si ya existe, agrega una cuenta mas\n",
      "\n",
      "print(vocales)"
     ],
     "language": "python",
     "metadata": {},
     "outputs": [
      {
       "output_type": "stream",
       "stream": "stdout",
       "text": [
        "{'o': 3, 'e': 2, 'a': 3, 'u': 1, 'i': 6}\n"
       ]
      }
     ],
     "prompt_number": 38
    },
    {
     "cell_type": "markdown",
     "metadata": {},
     "source": [
      "Tres m\u00e9todos \u00fatiles que existen en los diccionarios son: keys(), values(), y items(). Estos permiten obtener elementos del diccionario a distintos niveles. El resultado de cada uno de estos m\u00e9todos es una lista con los elementos solicitados."
     ]
    },
    {
     "cell_type": "code",
     "collapsed": false,
     "input": [
      "monedas = {'chile':'peso', 'brasil':'real', 'peru':'sol','espa\u00f1a':'euro','italia':'euro'}\n",
      "\n",
      "print(monedas.keys()) # una lista con todas las llaves\n",
      "print(monedas.values()) # una lista con todos los valores\n",
      "print(monedas.items()) # una lista con tuplas de pares llave-valor"
     ],
     "language": "python",
     "metadata": {},
     "outputs": [
      {
       "output_type": "stream",
       "stream": "stdout",
       "text": [
        "dict_keys(['italia', 'peru', 'espa\u00f1a', 'chile', 'brasil'])\n",
        "dict_values(['euro', 'sol', 'euro', 'peso', 'real'])\n",
        "dict_items([('italia', 'euro'), ('peru', 'sol'), ('espa\u00f1a', 'euro'), ('chile', 'peso'), ('brasil', 'real')])\n"
       ]
      }
     ],
     "prompt_number": 42
    },
    {
     "cell_type": "markdown",
     "metadata": {},
     "source": [
      "Estos m\u00e9todos son pr\u00e1cticos y \u00fatiles durante la iteraci\u00f3n sobre diccionarios."
     ]
    },
    {
     "cell_type": "code",
     "collapsed": false,
     "input": [
      "print('Las llaves en el diccionario son las siguientes:')\n",
      "\n",
      "for m in monedas.keys():\n",
      "    print('{0}'.format(m))\n",
      "\n",
      "print()\n",
      "for m in monedas: # por defecto el iterados opera sobre las llaves\n",
      "    print('{0}'.format(m))"
     ],
     "language": "python",
     "metadata": {},
     "outputs": [
      {
       "output_type": "stream",
       "stream": "stdout",
       "text": [
        "Las llaves en el diccionario son las siguientes:\n",
        "italia\n",
        "peru\n",
        "espa\u00f1a\n",
        "chile\n",
        "brasil\n",
        "\n",
        "italia\n",
        "peru\n",
        "espa\u00f1a\n",
        "chile\n",
        "brasil\n"
       ]
      }
     ],
     "prompt_number": 49
    },
    {
     "cell_type": "code",
     "collapsed": false,
     "input": [
      "print('Los valores en el diccionario:')\n",
      "for v in monedas.values():\n",
      "    print('{0}'.format(v))"
     ],
     "language": "python",
     "metadata": {},
     "outputs": [
      {
       "output_type": "stream",
       "stream": "stdout",
       "text": [
        "Los valores en el diccionario son los siguientes:\n",
        "euro\n",
        "sol\n",
        "euro\n",
        "peso\n",
        "real\n"
       ]
      }
     ],
     "prompt_number": 50
    },
    {
     "cell_type": "code",
     "collapsed": false,
     "input": [
      "print('Los pares en el diccionario:')\n",
      "for k, v in monedas.items():\n",
      "    print('la moneda de {0} es {1}'.format(k,v))"
     ],
     "language": "python",
     "metadata": {},
     "outputs": [
      {
       "output_type": "stream",
       "stream": "stdout",
       "text": [
        "Los pares en el diccionario:\n",
        "la moneda de italia es euro\n",
        "la moneda de peru es sol\n",
        "la moneda de espa\u00f1a es euro\n",
        "la moneda de chile es peso\n",
        "la moneda de brasil es real\n"
       ]
      }
     ],
     "prompt_number": 51
    },
    {
     "cell_type": "markdown",
     "metadata": {},
     "source": [
      "<h1>Defaultdicts</h1>\n",
      "\n",
      " Los \"defaultdicts\" son diccionarios que nos permiten asignar un valor por defecto para los casos cuando se accesa el diccionario usando una \"key\" que no existe. Esto nos ahorra el problema de tener que escribir c\u00f3digo para preocuparnos de los casos en que el valor que se intenta accesar en el diccionario no existe. Otra cualidad importante de los \"defaultdics\" es que aceptan una funci\u00f3n para ser asignada como valor por default, la cual puede realizar cualquier acci\u00f3n y retornar cualquier objeto (a ser asignado como valor para el respectivo key en el diccionario).\n",
      " \n",
      "<h2>Ejemplo:</h2>\n",
      "\n",
      "    Supongamos que queremos un diccionario donde cada elemento nuevo contiene como valor una lista con un string con el n\u00famero de elementos insertados hasta el momento en el diccionario"
     ]
    },
    {
     "cell_type": "code",
     "collapsed": false,
     "input": [
      "from collections import defaultdict\n",
      "num_items = 0\n",
      "def funcion_ej():\n",
      "    global num_items\n",
      "    num_items += 1\n",
      "    return ([str(num_items)])\n",
      "\n",
      "d = defaultdict(funcion_ej)\n",
      "\n",
      "print(d['a'])\n",
      "print(d['b'])\n",
      "print(d['c'])\n",
      "print(d['d'])\n",
      "print(d)\n",
      "\n"
     ],
     "language": "python",
     "metadata": {},
     "outputs": [
      {
       "output_type": "stream",
       "stream": "stdout",
       "text": [
        "['1']\n",
        "['2']\n",
        "['3']\n",
        "['4']\n",
        "defaultdict(<function funcion_ej at 0x10477e730>, {'a': ['1'], 'b': ['2'], 'd': ['4'], 'c': ['3']})\n"
       ]
      }
     ],
     "prompt_number": 4
    },
    {
     "cell_type": "code",
     "collapsed": false,
     "input": [],
     "language": "python",
     "metadata": {},
     "outputs": []
    }
   ],
   "metadata": {}
  }
 ]
}