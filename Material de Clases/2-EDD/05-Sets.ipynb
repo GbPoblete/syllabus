{
 "metadata": {
  "name": "",
  "signature": "sha256:80237ed383688141ad977f732f7c7a585e9b1fae4a8dfd1a7f95aea4a4742c1f"
 },
 "nbformat": 3,
 "nbformat_minor": 0,
 "worksheets": [
  {
   "cells": [
    {
     "cell_type": "markdown",
     "metadata": {},
     "source": [
      "<h1> Sets </h1>\n",
      "\n",
      "Los \"sets\" son un contenedor \u00fatil cuando tenemos que asegurar que los objetos contenidos adentro son \u00fanicos. Por ejemplo, en una lista de canciones pueden existir muchas canciones asociadas al mismo artista, si queremos generar una lista de todos los artistas en la librer\u00eda busc\u00e1ndolos en la lista de canciones, tendr\u00edamos que preocuparnos de ir chequeando para cada canci\u00f3n nueva si ya inclu\u00edmos al artista o no. Esto podr\u00eda ser m\u00e1s f\u00e1cil usando \"sets\", ya que la estructura se encarga de mantener s\u00f3lo una copia de cada elemento, a pesar de que lo agreguemos nuevamente (tal como en la uni\u00f3n de conjuntos).\n",
      "\n",
      "En Python los sets pueden contener cualquier objeto \"hashable\", es decir, un objeto cuyo valor obtenido luego de aplicar una funci\u00f3n de hash no cambia a lo largo de su vida. Recordar que los objetos hashables son los que pueden ser usados como keys en diccionarios, por lo mismo deben ser inmutables. "
     ]
    },
    {
     "cell_type": "code",
     "collapsed": false,
     "input": [
      "lista_canciones = [(\"Uptown Funk\", \"Mark Ronson\"),\n",
      "           (\"Thinking Out Loud\", \"Amy Wadge \"),\n",
      "           (\"Sugar\", \"Maroon 5\"),\n",
      "           (\"Patterns In The Ivy\", \"Opeth\"),\n",
      "           (\"Take Me To Church\", \"Hozier\"),\n",
      "           (\"Style\", \"Taylor Swift\"),\n",
      "           (\"Love Me Like You Do\", \"Ellie Goulding\")]\n",
      "artistas = set()\n",
      "for cancion, artista in lista_canciones:\n",
      "    artistas.add(artista)\n",
      "print(artistas)"
     ],
     "language": "python",
     "metadata": {},
     "outputs": [
      {
       "output_type": "stream",
       "stream": "stdout",
       "text": [
        "{'Hozier', 'Opeth', 'Ellie Goulding', 'Mark Ronson', 'Maroon 5', 'Taylor Swift', 'Amy Wadge '}\n"
       ]
      }
     ],
     "prompt_number": 6
    },
    {
     "cell_type": "markdown",
     "metadata": {},
     "source": [
      "Podemos tambi\u00e9n construir sets directamente usando llaves, los elementos deben estar separados por coma:"
     ]
    },
    {
     "cell_type": "code",
     "collapsed": false,
     "input": [
      "c = {'Style', 'Uptown Funk', 'Take Me To Church', 'Sugar', 'Thinking Out Loud', 'Patterns In The Ivy', 'Love Me Like You Do'}\n",
      "print(c)\n",
      "\n",
      "print(\"Sugar\" in canciones)\n",
      "for artista in artistas:\n",
      "    print(\"{} toca buena m\u00fasica\".format(artista))\n"
     ],
     "language": "python",
     "metadata": {},
     "outputs": [
      {
       "output_type": "stream",
       "stream": "stdout",
       "text": [
        "{'Take Me To Church', 'Uptown Funk', 'Sugar', 'Thinking Out Loud', 'Love Me Like You Do', 'Patterns In The Ivy', 'Style'}\n",
        "True\n",
        "Hozier toca buena m\u00fasica\n",
        "Opeth toca buena m\u00fasica\n",
        "Ellie Goulding toca buena m\u00fasica\n",
        "Mark Ronson toca buena m\u00fasica\n",
        "Maroon 5 toca buena m\u00fasica\n",
        "Taylor Swift toca buena m\u00fasica\n",
        "Amy Wadge  toca buena m\u00fasica\n"
       ]
      }
     ],
     "prompt_number": 17
    },
    {
     "cell_type": "markdown",
     "metadata": {},
     "source": [
      "Notar que cuando imprimimos el set los items no est\u00e1n con el mismo orden que los ingresamos, ya que al igual que en los diccionarios, los sets no mantienen ning\u00fan orden dentro de la estructura (ambos usan una estructura basada en funciones de hash por un tema de eficiencia). Notar que los sets no pueden usarse para buscar sus elementos a trav\u00e9s de un \u00edndice. Podemos construir una lista directamente desde un set:"
     ]
    },
    {
     "cell_type": "code",
     "collapsed": false,
     "input": [
      "ordenada = list(artistas)\n",
      "ordenada.sort()\n",
      "print(ordenada)"
     ],
     "language": "python",
     "metadata": {},
     "outputs": [
      {
       "output_type": "stream",
       "stream": "stdout",
       "text": [
        "['Amy Wadge ', 'Ellie Goulding', 'Hozier', 'Mark Ronson', 'Maroon 5', 'Opeth', 'Taylor Swift']\n"
       ]
      }
     ],
     "prompt_number": 18
    },
    {
     "cell_type": "markdown",
     "metadata": {},
     "source": [
      "Por supuesto que los sets nos ofrecen los m\u00e9todos relativos a las operaciones matem\u00e1ticas de conjuntos:"
     ]
    },
    {
     "cell_type": "code",
     "collapsed": false,
     "input": [
      "mis_artistas = {'Hozier', 'Opeth', 'Ellie Goulding', 'Mark Ronson', 'Taylor Swift'}\n",
      "artistas_album = {'Maroon 5', 'Taylor Swift', 'Amy Wadge'}\n",
      "print(\"Todos: {}\".format(mis_artistas.union(artistas_album)))\n",
      "print(\"Ambos: {}\".format(artistas_album.intersection(mis_artistas)))\n",
      "print(\"Cualquiera pero no ambos: {}\".format(mis_artistas.symmetric_difference(artistas_album)))#conjunto de objetos que est\u00e1n \n",
      "#en un conjunto o en el otro pero no en ambos"
     ],
     "language": "python",
     "metadata": {},
     "outputs": [
      {
       "output_type": "stream",
       "stream": "stdout",
       "text": [
        "Todos: {'Hozier', 'Opeth', 'Amy Wadge', 'Ellie Goulding', 'Taylor Swift', 'Mark Ronson', 'Maroon 5'}\n",
        "Ambos: {'Taylor Swift'}\n",
        "Cualquiera pero no ambos: {'Hozier', 'Opeth', 'Amy Wadge', 'Ellie Goulding', 'Mark Ronson', 'Maroon 5'}\n"
       ]
      }
     ],
     "prompt_number": 21
    },
    {
     "cell_type": "markdown",
     "metadata": {},
     "source": [
      "Los m\u00e9todos usados en la celda anterior retornan el mismo resultado independiente de qu\u00e9 set llama a qu\u00e9 set, por ejemplo\n",
      "mis_artistas.union(artistas_album) da el mismo resultado que artistas_album.union(mis_artistas). Hay otros m\u00e9todos en los\n",
      "cuales si importa qu\u00e9 set llama al otro, por ejemplo, issubset y issuperset. Otro ejemplo es el m\u00e9todo \"difference\", \n",
      "que retorna los objetos que est\u00e1n en el set que llama al m\u00e9todos (set1 en \"set1.difference(set2)\") pero que no est\u00e1n en el set\n",
      "pasado como argumento (set2)."
     ]
    },
    {
     "cell_type": "code",
     "collapsed": false,
     "input": [
      "mis_artistas = {'Opeth', 'Ellie Goulding', 'Mark Ronson', 'Taylor Swift'}\n",
      "bandas = {\"Opeth\", \"Guns N' Roses\"}\n",
      "\n",
      "print(\"mis_artistas es a bandas:\")\n",
      "print(\"issuperset: {}\".format(mis_artistas.issuperset(bandas)))\n",
      "print(\"issubset: {}\".format(mis_artistas.issubset(bandas)))\n",
      "print(\"difference: {}\".format(mis_artistas.difference(bandas)))\n",
      "print(\"-\"*20)\n",
      "print(\"bandas es a mis_artistas:\")\n",
      "print(\"issuperset: {}\".format(bandas.issuperset(mis_artistas)))\n",
      "print(\"issubset: {}\".format(bandas.issubset(mis_artistas)))\n",
      "print(\"difference: {}\".format(bandas.difference(mis_artistas)))\n"
     ],
     "language": "python",
     "metadata": {},
     "outputs": [
      {
       "output_type": "stream",
       "stream": "stdout",
       "text": [
        "mis_artistas es a bandas:\n",
        "issuperset: False\n",
        "issubset: False\n",
        "difference: {'Taylor Swift', 'Mark Ronson', 'Ellie Goulding'}\n",
        "--------------------\n",
        "bandas es a mis_artistas:\n",
        "issuperset: False\n",
        "issubset: False\n",
        "difference: {\"Guns N' Roses\"}\n"
       ]
      }
     ],
     "prompt_number": 25
    },
    {
     "cell_type": "code",
     "collapsed": false,
     "input": [],
     "language": "python",
     "metadata": {},
     "outputs": []
    }
   ],
   "metadata": {}
  }
 ]
}