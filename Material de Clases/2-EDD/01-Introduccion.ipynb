{
 "metadata": {
  "name": "",
  "signature": "sha256:8dd4645243d60a856db913bd224ccba9b97b4d101525cc72246d938ebafab3e7"
 },
 "nbformat": 3,
 "nbformat_minor": 0,
 "worksheets": [
  {
   "cells": [
    {
     "cell_type": "heading",
     "level": 1,
     "metadata": {},
     "source": [
      "Estructuras de Datos"
     ]
    },
    {
     "cell_type": "markdown",
     "metadata": {},
     "source": [
      "Se entiende por estructura de datos a una forma especializada para agrupar y almacenar la informaci\u00f3n, de tal modo que esta pueda ser utiliza eficientemente. A diferencia de las variables simples, las estructuras de datos involucran un alto nivel de abstracci\u00f3n y por lo tanto una estrecha relaci\u00f3n con OOP. El uso de cada tipo de estructura de datos tiene relaci\u00f3n directa con el contexto de aplicaci\u00f3n, como tambi\u00e9n con el dise\u00f1o y eficiencia alcanzada por los algoritmos. Es decir, la elecci\u00f3n adecuada de la estructura de datos es crucial para desarrollar un buen software."
     ]
    },
    {
     "cell_type": "markdown",
     "metadata": {},
     "source": [
      "La estructura de datos m\u00e1s simple es un objeto vac\u00edo, sin m\u00e9todos. Una vez que este objeto es instanciado, el usuario puede agregar atributos o propiedades. Para dejar la estructura vac\u00eda se utiliza la sentencia pass. Esta sentencia es una operaci\u00f3n nula donde nada ocurre y es utilizada generalmente en lugares donde el c\u00f3digo eventualmente no tiene nada declarado, pero que lo tendr\u00e1."
     ]
    },
    {
     "cell_type": "code",
     "collapsed": false,
     "input": [
      "# Se crea una clase vac\u00eda.\n",
      "class Video:\n",
      "    pass\n",
      "\n",
      "vid = Video()\n",
      "\n",
      "# se agregan atributos nuevos\n",
      "vid.ext = 'avi'\n",
      "vid.size = '1024'\n",
      "\n",
      "print(vid.ext, vid.size)\n",
      "\n",
      "# Tambi\u00e9n se puede crear una clase sin m\u00e9todos pero con algunos atributos pre-definidos\n",
      "class Imagen:\n",
      "    def __init__(self):\n",
      "        self.ext = ''\n",
      "        self.size = ''\n",
      "        self.data = ''\n",
      "       \n",
      "img = Imagen()\n",
      "img.ext = 'bmp'\n",
      "img.size = '8'\n",
      "img.data = [255,255,255,200,34,35]\n",
      "img.ids = 20 # python permite de todas formas agregar nuevos atributos a pesar de no estar declarados inicialmente\n",
      "\n",
      "print(img.ext, img.size, img.data, img.ids)\n"
     ],
     "language": "python",
     "metadata": {},
     "outputs": [
      {
       "output_type": "stream",
       "stream": "stdout",
       "text": [
        "avi 1024\n",
        "bmp 8 [255, 255, 255, 200, 34, 35] 20\n"
       ]
      }
     ],
     "prompt_number": 12
    },
    {
     "cell_type": "markdown",
     "metadata": {},
     "source": [
      "Sin embargo, en Python el manejo de clases vac\u00edas no es la forma \u00f3ptima de generar estructuras de datos debido a que la memoria requerida para hacer el seguimiento de todos los atributos, nombres y valores de potenciales nuevos atributos. Python posee varias estructuras ya implementadas para el eficiente manejo de datos, tales como: listas, tuplas, diccionarios, conjuntos, pilas y colas."
     ]
    },
    {
     "cell_type": "heading",
     "level": 1,
     "metadata": {},
     "source": [
      "Estructuras secuenciales basadas en arreglos"
     ]
    },
    {
     "cell_type": "markdown",
     "metadata": {},
     "source": [
      "En esta secci\u00f3n veremos estructuras basadas en un ordenamiento secuencial de los elementos, seg\u00fan como son ingresados en la estructura.\n",
      "Todos las estructuras de este tipo soportan indexaci\u00f3n de los elementos de la forma <i>secuencia[indice]</i>. En este tipo de estructuras encontramos: Strings, Tuplas y Listas. En particular los Strings tambi\u00e9n entran en esta categor\u00eda de secuencias tipo arreglo, sin embargo, se consideran un tipo de variable."
     ]
    },
    {
     "cell_type": "heading",
     "level": 3,
     "metadata": {},
     "source": [
      "Tuplas"
     ]
    },
    {
     "cell_type": "markdown",
     "metadata": {},
     "source": [
      "Estas estructuras se utilizan para manejara datos de forma ordenada. Los contenidos pueden\n",
      "ser accesados utilizando el \u00edndice correspondiente al orden con que los contenidos fueron ingresados. Las tuplas pueden contener distintos objetos o tipos de datos."
     ]
    },
    {
     "cell_type": "code",
     "collapsed": false,
     "input": [
      "a = tuple() # tupla vacia\n",
      "a = (0, 'mensaje') # declaraci\u00f3n explicita de los contenidos de la tupla usando parentisis\n",
      "b = 0, 'mensaje' # aunque el uso de parentesis no es obligatorio en el caso de las tuplas\n",
      "\n",
      "print(a[0], a[1])\n",
      "print(b[0], b[1])"
     ],
     "language": "python",
     "metadata": {},
     "outputs": [
      {
       "output_type": "stream",
       "stream": "stdout",
       "text": [
        "0 mensaje\n",
        "0 mensaje\n"
       ]
      }
     ],
     "prompt_number": 13
    },
    {
     "cell_type": "code",
     "collapsed": false,
     "input": [
      "profesor = ('Christian', '23112436-0', 2)\n",
      "video = ('estructura-de-datos.avi', 1024, 'mp4')\n",
      "registro = (1, profesor, video)"
     ],
     "language": "python",
     "metadata": {},
     "outputs": [],
     "prompt_number": 14
    },
    {
     "cell_type": "markdown",
     "metadata": {},
     "source": [
      "Las tuplas son estructuras de datos <b>INMUTABLES</b>, es decir, que no es posible agregar o eliminar elementos, o bien cambiar el contenido de ella  una vez que esta fue creada. La principal ventaja de la inmutabilidad es que le permite ser usada como valor de mapeo o llave en estructuras basadas en <i>hashing</i>, como son los diccionarios.\n",
      "\n",
      "La posicion 0 de la tupla a contiene originalmente un objeto del tipo <i>Imagen</i>. Intentamos reemplazar esta posici\u00f3n por un string (o cualquier tipo de dato). En este caso se origina un error de tipo puesto que el objeto (tupla) no permite asignaci\u00f3n\n"
     ]
    },
    {
     "cell_type": "code",
     "collapsed": false,
     "input": [
      "img = Imagen()\n",
      "a = (img, 'este es', 'un archivo')\n",
      "a[0] = 'nuevo dato' "
     ],
     "language": "python",
     "metadata": {},
     "outputs": [
      {
       "ename": "TypeError",
       "evalue": "'tuple' object does not support item assignment",
       "output_type": "pyerr",
       "traceback": [
        "\u001b[1;31m---------------------------------------------------------------------------\u001b[0m\n\u001b[1;31mTypeError\u001b[0m                                 Traceback (most recent call last)",
        "\u001b[1;32m<ipython-input-16-ebacdeb7992d>\u001b[0m in \u001b[0;36m<module>\u001b[1;34m()\u001b[0m\n\u001b[0;32m      1\u001b[0m \u001b[0mimg\u001b[0m \u001b[1;33m=\u001b[0m \u001b[0mImagen\u001b[0m\u001b[1;33m(\u001b[0m\u001b[1;33m)\u001b[0m\u001b[1;33m\u001b[0m\u001b[0m\n\u001b[0;32m      2\u001b[0m \u001b[0ma\u001b[0m \u001b[1;33m=\u001b[0m \u001b[1;33m(\u001b[0m\u001b[0mimg\u001b[0m\u001b[1;33m,\u001b[0m \u001b[1;34m'este es'\u001b[0m\u001b[1;33m,\u001b[0m \u001b[1;34m'un archivo'\u001b[0m\u001b[1;33m)\u001b[0m\u001b[1;33m\u001b[0m\u001b[0m\n\u001b[1;32m----> 3\u001b[1;33m \u001b[0ma\u001b[0m\u001b[1;33m[\u001b[0m\u001b[1;36m0\u001b[0m\u001b[1;33m]\u001b[0m \u001b[1;33m=\u001b[0m \u001b[1;34m'nuevo dato'\u001b[0m\u001b[1;33m\u001b[0m\u001b[0m\n\u001b[0m",
        "\u001b[1;31mTypeError\u001b[0m: 'tuple' object does not support item assignment"
       ]
      }
     ],
     "prompt_number": 16
    },
    {
     "cell_type": "markdown",
     "metadata": {},
     "source": [
      "Las tuplas pueden ser desempaquetadas en variables individuales. En este ejemplo la funci\u00f3n de juguete <i>calcular_geometria()</i> recive como entrada los lados de un cuadrilatero y retorna algunas medidas geom\u00e9tricas t\u00edpicas."
     ]
    },
    {
     "cell_type": "code",
     "collapsed": false,
     "input": [
      "def calcular_geometria(a, b):\n",
      "    area = a*b\n",
      "    perimeter = (2*a) + (2*b)\n",
      "    mpa = a/2\n",
      "    mpb = b/2\n",
      "    return (area, perimeter, mpa, mpb)\n",
      "\n",
      "data = calcular_geometria(20.0, 10.0)\n",
      "print('1: {0}'.format(data))\n",
      "\n",
      "# obteniendo los valores directamente referenciando el indice del dato requerido\n",
      "a = data[0]\n",
      "print('2: {0}'.format(a))\n",
      "\n",
      "# obteniendo los valores usando notacion slicing\n",
      "a = data[1:3]\n",
      "print('3: {0}'.format(a))\n",
      "\n",
      "# desempaquetando en variables independientes los valores contenidos en una tupla\n",
      "a, p, mpa, mpb = data\n",
      "print('5: {0}, {1}, {2}, {3}'.format(a, p, mpa, mpb))\n",
      "\n",
      "# Las funciones devuelven el conjunto de valores como una tupla. Se puede desempaquetar directamente en variables individuales como en el \n",
      "# caso anterior.\n",
      "a, p, mpa, mpb = calcular_geometria(20.0, 10.0)\n",
      "print('4: {0}, {1}, {2}, {3}'.format(a, p, mpa, mpb))"
     ],
     "language": "python",
     "metadata": {},
     "outputs": [
      {
       "output_type": "stream",
       "stream": "stdout",
       "text": [
        "1: (200.0, 60.0, 10.0, 5.0)\n",
        "2: 200.0\n",
        "3: (60.0, 10.0)\n",
        "5: 200.0, 60.0, 10.0, 5.0\n",
        "4: 200.0, 60.0, 10.0, 5.0\n"
       ]
      }
     ],
     "prompt_number": 17
    },
    {
     "cell_type": "heading",
     "level": 3,
     "metadata": {},
     "source": [
      "Named Tuples"
     ]
    },
    {
     "cell_type": "markdown",
     "metadata": {},
     "source": [
      "Las Named tuples son objetos sin m\u00e9todos basados en tuplas. Este tipo de tuples permite definir campos con los atributos. Son \u00fatiles como una forma de agrupar datos juntos. Esta modalidad de tuplo requiere definir un objeto con los nombres de los atributos que esta tupla tendr\u00e1. Para poder hacer uso de esta estructura se requiere importar el modulo <b>namedtuple</b> dese la librer\u00eda <i><b>collections</b></i>."
     ]
    },
    {
     "cell_type": "code",
     "collapsed": false,
     "input": [
      "from collections import namedtuple\n",
      "\n",
      "Register = namedtuple('Register', 'RUT name age') # name of tuple type (defined by user) and tuple atributes\n",
      "\n",
      "c1 = Register('13427974-5', 'Christian', 20) # tuple instantiation and init\n",
      "c2 = Register('23066987-2', 'Dante', 5) # tuple instantiation and init\n",
      "\n",
      "print(c1.RUT)\n",
      "print(c2.RUT)"
     ],
     "language": "python",
     "metadata": {},
     "outputs": [
      {
       "output_type": "stream",
       "stream": "stdout",
       "text": [
        "13427974-5\n",
        "23066987-2\n"
       ]
      }
     ],
     "prompt_number": 40
    },
    {
     "cell_type": "markdown",
     "metadata": {},
     "source": [
      "Se puede usar tambi\u00e9n las named tuples para entregar la salida de una funci\u00f3n"
     ]
    },
    {
     "cell_type": "code",
     "collapsed": false,
     "input": [
      "# from collections import namedtuple\n",
      "def calcular_geometria(a, b):\n",
      "    Features = namedtuple('Geometrical', 'area perimeter mpa mpb')\n",
      "    area = a*b\n",
      "    perimeter = (2*a) + (2*b)\n",
      "    mpa = a/2\n",
      "    mpb = b/2\n",
      "    return Features(area, perimeter, mpa, mpb)\n",
      "\n",
      "data = calcular_geometria(20.0, 10.0)\n",
      "print(data.area)"
     ],
     "language": "python",
     "metadata": {},
     "outputs": [
      {
       "output_type": "stream",
       "stream": "stdout",
       "text": [
        "200.0\n"
       ]
      }
     ],
     "prompt_number": 41
    },
    {
     "cell_type": "heading",
     "level": 3,
     "metadata": {},
     "source": [
      "Listas"
     ]
    },
    {
     "cell_type": "markdown",
     "metadata": {},
     "source": [
      "Este tipo de estructura de datos han sido dise\u00f1adas principalmente para el almacenamiento de distintas instancias de un mismo tipo de objeto. Aunque no restricci\u00f3n en la combinaci\u00f3n de tipos de objetos que pueden manejar. Al igual que las tuplas, son ordenadas de acuerdo a como los elementos van siendo ingresados. Estos elementos se recuperan usando el valor del \u00edndice del posici\u00f3n donde fueron almacenados. Las listas son una estructura <b>MUTABLE</b>, es decir, que su contenido puede cambiar din\u00e1micamente despu\u00e9s que esta fue creada.\n",
      "\n",
      "NOTA: <b>EVITAR</b> el uso de las listas para coleccionar distintos atributos de un objeto  o bien usarlas con alg\u00fan tipo de acceso similar al uso de vectores en C++, como por ejemplo, usarlas como histogramas para la cuenta de palabras [\u2018a\u2019, 1, \u2018b\u2019, 2] . Esto necesita dise\u00f1ar un algoritmo de acceso a los datos dentro de la lista que hace engorroso su manejo. En este caso preferir el uso de otro tipo de estructuras como diccionarios, named tuples u objetos."
     ]
    },
    {
     "cell_type": "code",
     "collapsed": false,
     "input": [
      "# lista vac\u00eda y agregar elementos incrementalmente. En este caso agregamos tuplas.\n",
      "LE = []\n",
      "LE.append((2015,3,14))\n",
      "LE.append((2015,4,18))\n",
      "print(LE)\n",
      "\n",
      "# Tambien es posible agregar los objetos explicitamente al definirla por primera vez\n",
      "L = [1,'string', 20.5, (23,45)]\n",
      "print(L)\n",
      "\n",
      "# Es posible extraer el elemento indeza\n",
      "print(L[1])"
     ],
     "language": "python",
     "metadata": {},
     "outputs": [
      {
       "output_type": "stream",
       "stream": "stdout",
       "text": [
        "[(2015, 3, 14), (2015, 4, 18)]\n",
        "[1, 'string', 20.5, (23, 45)]\n",
        "string\n"
       ]
      }
     ],
     "prompt_number": 22
    },
    {
     "cell_type": "markdown",
     "metadata": {},
     "source": [
      "Adem\u00e1s del poder extraer mediante indexaci\u00f3n un elemento espec\u00edfico desde una lista, es posible tambi\u00e9n recuperar una porci\u00f3n completa de la lista utilizando <i>slicing</i>. La notaci\u00f3n consiste en se\u00f1alar el inicio y t\u00e9rmino de secci\u00f3n que se desea recuperar, y finalmente el n\u00famero de pasos. Esto es <i>lista[inicio:termino:pasos]</i>. Por defecto el n\u00famero de pasos es 1.\n",
      "\n"
     ]
    },
    {
     "cell_type": "code",
     "collapsed": false,
     "input": [
      "# Tomando una tajada particular\n",
      "numeros = [6,7,2,4,10,20,25]\n",
      "print(numeros[2:6])\n",
      "\n",
      "# tomando una seccion hasta el final de la lista\n",
      "print(numeros[2::])\n",
      "\n",
      "# tomando una secci\u00f3n desde el principio hasta un punto espec\u00edfico\n",
      "print(numeros[:5:])\n",
      "\n",
      "# considerando pasos de 2\n",
      "print(numeros[:5:2])\n",
      "\n",
      "# revirtiendo una lista\n",
      "print(numeros[::-1])"
     ],
     "language": "python",
     "metadata": {},
     "outputs": [
      {
       "output_type": "stream",
       "stream": "stdout",
       "text": [
        "[2, 4, 10, 20]\n",
        "[2, 4, 10, 20, 25]\n",
        "[6, 7, 2, 4, 10]\n",
        "[6, 2, 10]\n",
        "[25, 20, 10, 4, 2, 7, 6]\n"
       ]
      }
     ],
     "prompt_number": 38
    },
    {
     "cell_type": "markdown",
     "metadata": {},
     "source": [
      "Las listas pueden ser ordenadas utilizando el m\u00e9todo sort(). Esto ordena las listas en si mismas y no devuelve nada."
     ]
    },
    {
     "cell_type": "code",
     "collapsed": false,
     "input": [
      "numeros = [6,7,2,4,10,20,25]\n",
      "print(numeros)\n",
      "\n",
      "# En sentido ascendente\n",
      "a = numeros.sort() \n",
      "print(numeros, a)\n",
      "\n",
      "# En sentido descendente\n",
      "numeros.sort(reverse=True)\n",
      "print(numeros)"
     ],
     "language": "python",
     "metadata": {},
     "outputs": [
      {
       "output_type": "stream",
       "stream": "stdout",
       "text": [
        "[6, 7, 2, 4, 10, 20, 25]\n",
        "[2, 4, 6, 7, 10, 20, 25] None\n",
        "[25, 20, 10, 7, 6, 4, 2]\n"
       ]
      }
     ],
     "prompt_number": 21
    },
    {
     "cell_type": "markdown",
     "metadata": {},
     "source": [
      "Las listas han sido optimizadas para ser una estructura flexible y f\u00e1cil de manejar. Al ser un elemento iterable es de f\u00e1cil manejo por sentencias de repetici\u00f3n, como ciclos <b>FOR</b>."
     ]
    },
    {
     "cell_type": "code",
     "collapsed": false,
     "input": [
      "class Pieza:\n",
      "    pid = 0\n",
      "    \n",
      "    def __init__(self, pieza):\n",
      "        Pieza.pid += 1\n",
      "        self.tipo = pieza\n",
      "\n",
      "piezas = []\n",
      "piezas.append(Pieza('Alfil'))\n",
      "piezas.append(Pieza('Peon'))\n",
      "piezas.append(Pieza('Rey'))\n",
      "piezas.append(Pieza('Reina'))\n",
      "\n",
      "for pieza in piezas:\n",
      "    print('pid: {0} - tipo de pieza: {1}'.format(pieza.pid, pieza.tipo))\n"
     ],
     "language": "python",
     "metadata": {},
     "outputs": [
      {
       "output_type": "stream",
       "stream": "stdout",
       "text": [
        "pid: 4 - tipo de pieza: Alfil\n",
        "pid: 4 - tipo de pieza: Peon\n",
        "pid: 4 - tipo de pieza: Rey\n",
        "pid: 4 - tipo de pieza: Reina\n"
       ]
      }
     ],
     "prompt_number": 29
    }
   ],
   "metadata": {}
  }
 ]
}