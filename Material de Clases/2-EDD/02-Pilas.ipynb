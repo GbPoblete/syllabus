{
 "metadata": {
  "name": "",
  "signature": "sha256:d5adbc27bcc29bc1cfb06249aa4c3278ad7974853210402e7e02a41e9ddd389f"
 },
 "nbformat": 3,
 "nbformat_minor": 0,
 "worksheets": [
  {
   "cells": [
    {
     "cell_type": "heading",
     "level": 1,
     "metadata": {},
     "source": [
      "Pilas (Stacks)"
     ]
    },
    {
     "cell_type": "markdown",
     "metadata": {},
     "source": [
      "Las pilas son una estructura de datos en donde una colecci\u00f3n de objetos son insertados y removidos seg\u00fan el principio de <b>Last In</b>, <b>First Out</b> (LIFO). Es decir, un usuario puede agregar secuencialmente objetos a la pila en cualquier momento, sin embargo, solo puede remover desde la pila el o los objetos <b>recientemente agregados ubicados en el tope de ella</b>. C\u00f3mo se muestra en la siguiente figura, el funcionamiento de las pilas es equivalente al de una columna de platos apilados despu\u00e9s de ser lavados. El \u00faltimo plato lavado lavado ser\u00e1 el primero en ser utilizado.\n",
      "\n",
      "<img src=\"img/stacks.png\" width=70%>"
     ]
    },
    {
     "cell_type": "markdown",
     "metadata": {},
     "source": [
      "En general las pilas tienen los siguientes m\u00e9todos: <i>push()</i>, <i>pop()</i>, <i>top()</i>, <i>is_empty()</i>, <i>len()</i>. Dentro de los m\u00e9todos m\u00e1s usados se encuentran: <b><i>push()</i></b> para insertar un objeto en la pila; y <b><i>pop()</i></b> para remover el \u00faltimo objeto insertado en la pila. En python las pilas est\u00e1n ya implementadas mediante listas. A continuaci\u00f3n vemos los m\u00e9todos para pilas equivalentes con la implementaci\u00f3n usando listas.\n",
      "\n",
      "<img src=\"img/stacks-methods.png\" width=70%>\n"
     ]
    },
    {
     "cell_type": "markdown",
     "metadata": {},
     "source": [
      "Estos m\u00e9todos funcionan de la siguiente manera:"
     ]
    },
    {
     "cell_type": "code",
     "collapsed": true,
     "input": [
      "# una pila vacia\n",
      "pila = []\n",
      "\n",
      "# push\n",
      "pila.append(1)\n",
      "pila.append(10)\n",
      "pila.append(12)\n",
      "\n",
      "print(pila)\n",
      "\n",
      "# pop\n",
      "pila.pop() \n",
      "print('pop: {0}'.format(pila))\n",
      "\n",
      "# top\n",
      "pila.append(25)\n",
      "print('top: {0}'.format(pila[-1]))\n",
      "\n",
      "# len\n",
      "print('la pila tiene {0} elementos'.format(len(pila)))\n",
      "\n",
      "# is_empty\n",
      "pila = []\n",
      "if len(pila) == 0:\n",
      "    print('la pila esta vacia')"
     ],
     "language": "python",
     "metadata": {},
     "outputs": [
      {
       "output_type": "stream",
       "stream": "stdout",
       "text": [
        "[1, 10, 12]\n",
        "pop: [1, 10]\n",
        "top: 25\n",
        "la pila tiene 3 elementos\n",
        "la pila esta vacia\n"
       ]
      }
     ],
     "prompt_number": 1
    },
    {
     "cell_type": "markdown",
     "metadata": {},
     "source": [
      "Un ejemplo real del uso de pilas en una aplicaci\u00f3n es el bot\u00f3n <b>back</b> en los navegadores de internet. Durante la navegaci\u00f3n todas las direcciones van siendo ingresadas en una pila. La \u00faltima direcci\u00f3n siempre es recuperada al presionar este bot\u00f3n.\n",
      "\n",
      "<img src=\"img/back-button-stacks.png\" width=60%>\n"
     ]
    },
    {
     "cell_type": "code",
     "collapsed": false,
     "input": [
      "class Navegador:\n",
      "    \n",
      "    def __init__(self, current_url = 'http://www.google.com'):\n",
      "        self.__urls_stack = []\n",
      "        self.__current_url = current_url\n",
      "    \n",
      "    def __cargar_url(self, url):\n",
      "        self.__current_url = url\n",
      "        print('cargando url: {0}'.format(url))\n",
      "        \n",
      "    def ir(self, url):\n",
      "        self.__urls_stack.append(self.__current_url)\n",
      "        print('ir ->', end=' ')\n",
      "        self.__cargar_url(url)        \n",
      "    \n",
      "    def volver(self):\n",
      "        last_url = self.__urls_stack.pop()     \n",
      "        print('back->', end=' ')\n",
      "        self.__cargar_url(last_url)\n",
      "        \n",
      "    def mostrar_pagina_actual(self):\n",
      "        print('pagina actual: {0}'.format(self.__current_url))\n",
      "    \n",
      "    \n",
      "Chrome = Navegador()\n",
      "Chrome.ir('http://www.uc.cl')\n",
      "Chrome.ir('http://www.uc.cl/es/programas-de-estudio')\n",
      "Chrome.ir('http://www.uc.cl/es/doctorado')\n",
      "\n",
      "Chrome.mostrar_pagina_actual()\n",
      "Chrome.volver()\n",
      "Chrome.mostrar_pagina_actual()"
     ],
     "language": "python",
     "metadata": {},
     "outputs": [
      {
       "output_type": "stream",
       "stream": "stdout",
       "text": [
        "ir -> cargando url: http://www.uc.cl\n",
        "ir -> cargando url: http://www.uc.cl/es/programas-de-estudio\n",
        "ir -> cargando url: http://www.uc.cl/es/doctorado\n",
        "pagina actual: http://www.uc.cl/es/doctorado\n",
        "back-> cargando url: http://www.uc.cl/es/programas-de-estudio\n",
        "pagina actual: http://www.uc.cl/es/programas-de-estudio\n"
       ]
      }
     ],
     "prompt_number": 28
    },
    {
     "cell_type": "markdown",
     "metadata": {},
     "source": [
      "Otro ejemplo para el uso de pilas es revertir secuencias. A continuaci\u00f3n una implementaci\u00f3n sencilla de este ejemplo."
     ]
    },
    {
     "cell_type": "code",
     "collapsed": false,
     "input": [
      "class Texto:\n",
      "    def __init__(self):\n",
      "        self.pila = []\n",
      "\n",
      "    def leer_archivo(self, nombre_archivo):\n",
      "        print('entrada:')\n",
      "        \n",
      "        with open(nombre_archivo) as fid:\n",
      "            for linea in fid:\n",
      "                print(linea.strip())\n",
      "                self.pila.append(linea.strip())\n",
      "        \n",
      "        print()\n",
      "        fid.closed\n",
      "\n",
      "    def invertir_lines(self):\n",
      "        print('salida:')\n",
      "    \n",
      "        while len(self.pila) > 0:\n",
      "            print(self.pila.pop())\n",
      "t = Texto()\n",
      "t.leer_archivo('pilas-texto.txt')\n",
      "t.invertir_lines()"
     ],
     "language": "python",
     "metadata": {},
     "outputs": [
      {
       "output_type": "stream",
       "stream": "stdout",
       "text": [
        "entrada:\n",
        "he friend who can be silent with us in a moment of despair or confusion,\n",
        "who can stay with us in an hour of grief and bereavement,\n",
        "who can tolerate not knowing... not healing, not curing...\n",
        "that is a friend who cares.\n",
        "\n",
        "salida:\n",
        "that is a friend who cares.\n",
        "who can tolerate not knowing... not healing, not curing...\n",
        "who can stay with us in an hour of grief and bereavement,\n",
        "he friend who can be silent with us in a moment of despair or confusion,\n"
       ]
      }
     ],
     "prompt_number": 4
    }
   ],
   "metadata": {}
  }
 ]
}