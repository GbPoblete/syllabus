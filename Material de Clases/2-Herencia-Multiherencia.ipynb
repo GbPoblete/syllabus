{
 "metadata": {
  "name": "",
  "signature": "sha256:dd0dae135d42479c876824c6ef0bdc7e1ae1baea797849eb8f116dc1b6f9b73e"
 },
 "nbformat": 3,
 "nbformat_minor": 0,
 "worksheets": [
  {
   "cells": [
    {
     "cell_type": "markdown",
     "metadata": {},
     "source": [
      "<h2> Herencia: </h2>\n",
      "\n",
      "El concepto de herencia en programaci\u00f3n orientada a objetos nos permite aprovechar c\u00f3digo de las clases de las cuales se hereda. La herencia nos permite representar la relaci\u00f3n del tipo \"el objeto B es un objeto A, pero con ciertas diferencias\".\n",
      "Una clase hija corresponde a una especializaci\u00f3n de su clase padre.\n",
      "Cuando un objeto pertenece a una clase en particular, si esta clase es a su vez una sub-clase de otra clase m\u00e1s general, la herencia nos permite \"heredar\" los datos y comportamiento de la clase \"madre\" (superclase), de tal manera de no tener que volver a definir esos datos y comportamiento en la subclase. Ej: La clase \"furg\u00f3n escolar\" es una subclase de la clase \"veh\u00edculo\", por lo tanto sabemos que la clase \"furg\u00f3n escolar\" va a heredar los datos y comportamiento de \"veh\u00edculo\" (ruedas, motor, etc.) y no es necesario volver a definirlos en la subclase \"furg\u00f3n escolar\". Lo interesante es que la subclase \"furg\u00f3n escolar\" tiene ciertos datos y m\u00e9todos que la hacen m\u00e1s especializada que la clase \"veh\u00edculo\", como por ejemplo, lista de ni\u00f1os inscritos en el furg\u00f3n. Tambi\u00e9n la herencia nos permite sobre-escribir los m\u00e9todos que necesitemos modificar (en Python simplente definimos nuevamente el m\u00e9todo y con eso se entiende que la versi\u00f3n implementada en la subclase es la que cuenta).\n",
      "\n",
      "Una de las cosas que podemos hacer con herencia es extender los built ins, por ejemplo, si queremos extender la clase \"lista\", podemos definir una sub-clase que heredar\u00e1 los m\u00e9todos de la clase\n",
      "\"lista\" y a su vez tendr\u00e1 datos y m\u00e9todos propios:"
     ]
    },
    {
     "cell_type": "code",
     "collapsed": false,
     "input": [
      "class ContactList(list):#aqu\u00ed estamos extendiendo la clase standard lista\n",
      "    def buscar(self, nombre):\n",
      "        matches = []\n",
      "        for contacto in self:\n",
      "            if nombre in contacto.nombre:\n",
      "                matches.append(contacto)\n",
      "        return matches\n",
      "\n",
      "    \n",
      "class Contacto:\n",
      "    #contactos_list = [] #as\u00ed ser\u00eda para usar una lista com\u00fan y corriente\n",
      "    contactos_list = ContactList()\n",
      "\n",
      "    def __init__(self, nombre, email):\n",
      "        self.nombre = nombre\n",
      "        self.email = email\n",
      "        Contacto.contactos_list.append(self)\n",
      "\n",
      "\n",
      "class Familiar(Contacto):\n",
      "\n",
      "    def __init__(self, nombre, email, relacion):#Overriding\n",
      "        super().__init__(nombre, email)#obtiene la instancia del padre y llama a su funcion __init__\n",
      "        self.relacion = relacion"
     ],
     "language": "python",
     "metadata": {},
     "outputs": [],
     "prompt_number": 23
    },
    {
     "cell_type": "code",
     "collapsed": false,
     "input": [
      "p1 = Familiar(nombre = \"Juan Gomez\", email = \"jc@hotmail.com\", relacion = \"padre\")\n",
      "p2 = Contacto(nombre = \"Jorge Gonzales\", email = \"jg@gmail.com\")\n",
      "p3 = Familiar(nombre = \"Pablo Gomez\", email = \"pab_g@gmail.com\", relacion = 'primo')\n",
      "\n",
      "\n",
      "L = [c.nombre for c in p1.contactos_list.buscar(\"Jorge\")]\n",
      "\n",
      "print('[',end='')\n",
      "print(*L, sep=', ', end='')\n",
      "print(']')"
     ],
     "language": "python",
     "metadata": {},
     "outputs": [
      {
       "output_type": "stream",
       "stream": "stdout",
       "text": [
        "[Jorge Gonzales]\n"
       ]
      }
     ],
     "prompt_number": 24
    },
    {
     "cell_type": "markdown",
     "metadata": {},
     "source": [
      "<h2> Multiherencia</h2>\n",
      "\n",
      "Tal como es posible que una subclase herede datos y comportamiento de una superclase, tambi\u00e9n es posible heredar\n",
      "de m\u00e1s de una clase a la vez:\n"
     ]
    },
    {
     "cell_type": "code",
     "collapsed": false,
     "input": [
      "class Investigador():\n",
      "    def __init__(self, area):\n",
      "        self.area = area\n",
      "        \n",
      "class Docente():\n",
      "    def __init__(self, Departamento):\n",
      "        self.departamento = Departamento\n",
      "        \n",
      "class Academico(Docente, Investigador):\n",
      "    def __init__(self, nombre, area_investigacion, departamento):\n",
      "        #esto no es del todo correcto, coming soon...\n",
      "        Investigador.__init__(self, area_investigacion)\n",
      "        Docente.__init__(self, departamento)\n",
      "        self.nombre = nombre\n",
      "\n",
      "p1 = Academico(\"Juan Perez\", \"Inteligencia de M\u00e1quina\", \"Ciencia De La Computaci\u00f3n\")\n",
      "print(p1.nombre)\n",
      "print(p1.area)\n",
      "print(p1.departamento)"
     ],
     "language": "python",
     "metadata": {},
     "outputs": [
      {
       "output_type": "stream",
       "stream": "stdout",
       "text": [
        "Juan Perez\n",
        "Inteligencia de M\u00e1quina\n",
        "Ciencia De La Computaci\u00f3n\n"
       ]
      }
     ],
     "prompt_number": 25
    },
    {
     "cell_type": "markdown",
     "metadata": {},
     "source": [
      "<h2> Multiherencia y el Problema del diamante</h2>\n",
      "\n",
      "El siguiente ejemplo muestra lo que ocurre en un contexto de multiherencia si es que cada sub-clase llama directamente a inicializar a todas sus superclases. La figura siguiente muestra la jerarqu\u00eda de las clases en cuesti\u00f3n\n",
      "\n",
      "<img src=\"files/img_diamante.png\" width=500 height=500>"
     ]
    },
    {
     "cell_type": "markdown",
     "metadata": {},
     "source": [
      "El siguiente c\u00f3digo muestra qu\u00e9 ocurre cuando llamamos al m\u00e9todo \"llamar()\" en ambas super clases desde la clase \"SubClaseA\"."
     ]
    },
    {
     "cell_type": "code",
     "collapsed": false,
     "input": [
      "class ClaseB:\n",
      "    num_llamadas_B = 0\n",
      "    def llamar(self):\n",
      "        print(\"Llamando m\u00e9todo en Clase B\")\n",
      "        self.num_llamadas_B += 1\n",
      "\n",
      "\n",
      "class SubClaseIzquierda(ClaseB):\n",
      "    num_llamadas_izq = 0\n",
      "    def llamar(self):\n",
      "        ClaseB.llamar(self)\n",
      "        print(\"Llamando m\u00e9todo en Subclase izquierda\")\n",
      "        self.num_llamadas_izq += 1\n",
      "\n",
      "class SubClaseDerecha(ClaseB):\n",
      "    num_llamadas_der = 0\n",
      "    def llamar(self):\n",
      "        ClaseB.llamar(self)\n",
      "        print(\"Llamando m\u00e9todo en Subclase derecha\")\n",
      "        self.num_llamadas_der += 1\n",
      "\n",
      "class SubClaseA(SubClaseIzquierda, SubClaseDerecha):\n",
      "    num_llamadas_subA = 0\n",
      "    def llamar(self):\n",
      "        SubClaseIzquierda.llamar(self)\n",
      "        SubClaseDerecha.llamar(self)\n",
      "        print(\"Llamando m\u00e9todo en SubclaseA\")\n",
      "        self.num_llamadas_subA += 1\n",
      "\n",
      "\n",
      "\n",
      "s = SubClaseA()\n",
      "s.llamar()\n",
      "print(s.num_llamadas_subA, s.num_llamadas_izq, s.num_llamadas_der, s.num_llamadas_B)\n",
      "\n"
     ],
     "language": "python",
     "metadata": {},
     "outputs": [
      {
       "output_type": "stream",
       "stream": "stdout",
       "text": [
        "Llamando m\u00e9todo en Clase B\n",
        "Llamando m\u00e9todo en Subclase izquierda\n",
        "Llamando m\u00e9todo en Clase B\n",
        "Llamando m\u00e9todo en Subclase derecha\n",
        "Llamando m\u00e9todo en SubclaseA\n",
        "1 1 1 2\n"
       ]
      }
     ],
     "prompt_number": 27
    },
    {
     "cell_type": "markdown",
     "metadata": {},
     "source": [
      "Del output se puede apreciar que la clase de m\u00e1s arriba en la jerarqu\u00eda (\"Clase B\"), fue llamada dos veces, a pesar de que\n",
      "nuestra intenci\u00f3n era llamarla s\u00f3lo una vez. La estructura de jerarqu\u00eda en forma de diamante ocurre siempre que tengamos una clase que hereda de dos clases, ya que como en Python todo es un objeto, todo hereda de la clase \"object\" (ver: \"new style classes (https://www.python.org/doc/newstyle/)\"), por lo tanto en general el esquema de multiherencia se ve de la siguiente forma:\n",
      "\n",
      "<img src=\"files/img_diamante_2.png\" width=500 height=500>\n",
      "\n",
      "Siguiendo el mismo ejemplo anterior, en vez de llamar al m\u00e9todo \"llamar()\", llamamos al m\u00e9todo \"__init__\", estar\u00edamos inicializando dos veces en la clase \"object\"!!. \n"
     ]
    },
    {
     "cell_type": "markdown",
     "metadata": {},
     "source": [
      "<h2>Soluci\u00f3n:</h2>\n",
      "\n",
      "La soluci\u00f3n es que cada clase debe preocuparse de llamar a inicializar a la clase que la \"precede\" en el orden del esquema de la multiherencia. En Python el orden de las clases va de izquierda a derecha dentro de la lista de super-clases desde donde hereda la sub-clase. En este caso, simplemente debemos preocuparnos de hacer una llamada a \"super()\", Python se encargar\u00e1 de que la llamada corresponda a la clase que respeta el orden en la multiherencia, en este caso, despu\u00e9s de la subclase viene la clase \"SubclaseIzquierda\", despu\u00e9s \"SubClaseDerecha\" y finalmente \"ClaseB\""
     ]
    },
    {
     "cell_type": "code",
     "collapsed": false,
     "input": [
      "class ClaseB:\n",
      "    num_llamadas_B = 0\n",
      "    def llamar(self):\n",
      "        print(\"Llamando m\u00e9todo en Clase B\")\n",
      "        self.num_llamadas_B += 1\n",
      "\n",
      "\n",
      "class SubClaseIzquierda(ClaseB):\n",
      "    num_llamadas_izq = 0\n",
      "    def llamar(self):\n",
      "        super().llamar()\n",
      "        print(\"Llamando m\u00e9todo en Subclase Izquierda\")\n",
      "        self.num_llamadas_izq += 1\n",
      "\n",
      "class SubClaseDerecha(ClaseB):\n",
      "    num_llamadas_der = 0\n",
      "    def llamar(self):\n",
      "        super().llamar()\n",
      "        print(\"Llamando m\u00e9todo en Subclase Derecha\")\n",
      "        self.num_llamadas_der += 1\n",
      "\n",
      "class SubClaseA(SubClaseIzquierda, SubClaseDerecha):\n",
      "    num_llamadas_subA = 0\n",
      "    def llamar(self):\n",
      "        super().llamar()\n",
      "        print(\"Llamando m\u00e9todo en SubclaseA\")\n",
      "        self.num_llamadas_subA += 1\n",
      "\n",
      "\n",
      "s = SubClaseA()\n",
      "s.llamar()\n",
      "print(s.num_llamadas_subA, s.num_llamadas_izq, s.num_llamadas_der, s.num_llamadas_B)\n",
      "\n"
     ],
     "language": "python",
     "metadata": {},
     "outputs": [
      {
       "output_type": "stream",
       "stream": "stdout",
       "text": [
        "Llamando m\u00e9todo en Clase B\n",
        "Llamando m\u00e9todo en Subclase Derecha\n",
        "Llamando m\u00e9todo en Subclase Izquierda\n",
        "Llamando m\u00e9todo en SubclaseA\n",
        "1 1 1 1\n"
       ]
      }
     ],
     "prompt_number": 28
    },
    {
     "cell_type": "markdown",
     "metadata": {},
     "source": [
      "<h3> El m\u00e9todo __mro__ (method resolution order) nos muestra el orden de la jerarqu\u00eda. </h3> Es \u00fatil para casos de multiherencia m\u00e1s complejos, Python utiliza el algoritmo C3 para calcular un orden lineal entre las clases que participan en el esquema de multiherencia: \n"
     ]
    },
    {
     "cell_type": "code",
     "collapsed": false,
     "input": [
      "SubClaseA.__mro__"
     ],
     "language": "python",
     "metadata": {},
     "outputs": [
      {
       "metadata": {},
       "output_type": "pyout",
       "prompt_number": 30,
       "text": [
        "(__main__.SubClaseA,\n",
        " __main__.SubClaseIzquierda,\n",
        " __main__.SubClaseDerecha,\n",
        " __main__.ClaseB,\n",
        " object)"
       ]
      }
     ],
     "prompt_number": 30
    },
    {
     "cell_type": "markdown",
     "metadata": {},
     "source": [
      "<h3> Este es un ejemplo de estructura de multiherencia que no estar\u00eda permitida en Python, ya que el algoritmo C3 generar\u00eda un error:</h3>"
     ]
    },
    {
     "cell_type": "code",
     "collapsed": false,
     "input": [
      "class X():\n",
      "    def call_me(self):\n",
      "        print(\"soy X\")\n",
      "    \n",
      "class Y():\n",
      "    def call_me(self):\n",
      "        print(\"soy Y\")\n",
      "    \n",
      "class A(X, Y):\n",
      "    def call_me(self):\n",
      "        print(\"soy A\")\n",
      "    \n",
      "class B(Y, X):\n",
      "     def call_me(self):\n",
      "         print(\"soy B\")\n",
      "\n",
      "class F(A, B):\n",
      "    def call_me(self):\n",
      "        print(\"soy F\")"
     ],
     "language": "python",
     "metadata": {},
     "outputs": [
      {
       "ename": "TypeError",
       "evalue": "Cannot create a consistent method resolution\norder (MRO) for bases X, Y",
       "output_type": "pyerr",
       "traceback": [
        "\u001b[0;31m---------------------------------------------------------------------------\u001b[0m\n\u001b[0;31mTypeError\u001b[0m                                 Traceback (most recent call last)",
        "\u001b[0;32m<ipython-input-31-fc78f996e01f>\u001b[0m in \u001b[0;36m<module>\u001b[0;34m()\u001b[0m\n\u001b[1;32m     15\u001b[0m          \u001b[0mprint\u001b[0m\u001b[0;34m(\u001b[0m\u001b[0;34m\"soy B\"\u001b[0m\u001b[0;34m)\u001b[0m\u001b[0;34m\u001b[0m\u001b[0m\n\u001b[1;32m     16\u001b[0m \u001b[0;34m\u001b[0m\u001b[0m\n\u001b[0;32m---> 17\u001b[0;31m \u001b[0;32mclass\u001b[0m \u001b[0mF\u001b[0m\u001b[0;34m(\u001b[0m\u001b[0mA\u001b[0m\u001b[0;34m,\u001b[0m \u001b[0mB\u001b[0m\u001b[0;34m)\u001b[0m\u001b[0;34m:\u001b[0m\u001b[0;34m\u001b[0m\u001b[0m\n\u001b[0m\u001b[1;32m     18\u001b[0m     \u001b[0;32mdef\u001b[0m \u001b[0mcall_me\u001b[0m\u001b[0;34m(\u001b[0m\u001b[0mself\u001b[0m\u001b[0;34m)\u001b[0m\u001b[0;34m:\u001b[0m\u001b[0;34m\u001b[0m\u001b[0m\n\u001b[1;32m     19\u001b[0m         \u001b[0mprint\u001b[0m\u001b[0;34m(\u001b[0m\u001b[0;34m\"soy F\"\u001b[0m\u001b[0;34m)\u001b[0m\u001b[0;34m\u001b[0m\u001b[0m\n",
        "\u001b[0;31mTypeError\u001b[0m: Cannot create a consistent method resolution\norder (MRO) for bases X, Y"
       ]
      }
     ],
     "prompt_number": 31
    },
    {
     "cell_type": "code",
     "collapsed": false,
     "input": [
      "print(B.__mro__)"
     ],
     "language": "python",
     "metadata": {},
     "outputs": [
      {
       "output_type": "stream",
       "stream": "stdout",
       "text": [
        "(<class '__main__.B'>, <class '__main__.Y'>, <class '__main__.X'>, <class 'object'>)\n"
       ]
      }
     ],
     "prompt_number": 32
    },
    {
     "cell_type": "markdown",
     "metadata": {},
     "source": [
      "<h2> Ejemplo Multiherencia: </h2>\n",
      "\n",
      "<h3> Mala pr\u00e1ctica: </h3> \n",
      "\n",
      "Si bien el siguiente ejemplo al parecer funciona correctamente, al llamar directamente a las superclases dentro de la clase Cliente estamos cometiendo el error mencionado anteriormente (se est\u00e1 llamando al inicializador de \"object\" m\u00e1s de una vez)"
     ]
    },
    {
     "cell_type": "code",
     "collapsed": false,
     "input": [
      "class AddressHolder:\n",
      "    def __init__(self, calle, numero, comuna, ciudad):\n",
      "        self.calle = calle\n",
      "        self.ciudad = ciudad\n",
      "        self.comuna = comuna\n",
      "        self.numero = numero\n",
      "\n",
      "class Contacto:\n",
      "\n",
      "    contactos_list = []\n",
      "\n",
      "    def __init__(self, nombre, email):\n",
      "        self.nombre = nombre\n",
      "        self.email = email\n",
      "        Contacto.contactos_list.append(self)\n",
      "\n",
      "\n",
      "class Cliente(Contacto, AddressHolder):\n",
      "\n",
      "    def __init__(self, nombre, email, telefono, calle, numero, comuna, ciudad):\n",
      "        Contacto.__init__(self, nombre, email)\n",
      "        AddressHolder.__init__(self, calle, numero, comuna, ciudad)\n",
      "        self.telefono = telefono\n",
      "\n",
      "c = Cliente('Juan Perez', 'jp@gmail.com', '23542331', 'Pedro de Valdivia', '231', 'Providencia', 'Santiago')\n",
      "\n",
      "print(\"{}, {}, {}, {}\".format(c.nombre, c.email, c.calle, c.comuna))"
     ],
     "language": "python",
     "metadata": {},
     "outputs": [
      {
       "output_type": "stream",
       "stream": "stdout",
       "text": [
        "Juan Perez, jp@gmail.com, Pedro de Valdivia, Providencia\n"
       ]
      }
     ],
     "prompt_number": 11
    },
    {
     "cell_type": "markdown",
     "metadata": {},
     "source": [
      "<h3> Forma mejorada: \\*args y \\*\\*kwargs</h3>\n",
      "\n",
      " Antes de ver una forma m\u00e1s adecuada para la versi\u00f3n del c\u00f3digo anterior, mostraremos c\u00f3mo usar \"\\*\\*kwargs\". \\**kwargs se refiere a un \"keyworded variable-length argument list\" (guardada en un diccionario), puede ser usado para enviar una cantidad variable de argumentos a una funci\u00f3n: "
     ]
    },
    {
     "cell_type": "code",
     "collapsed": false,
     "input": [
      "def metodo(arg1, arg2, arg3):\n",
      "    print(\"arg1: {}\".format(arg1))\n",
      "    print(\"arg2: {}\".format(arg2))\n",
      "    print(\"arg3: {}\".format(arg3))\n",
      "\n",
      "kwargs = {\"arg3\": 3, \"arg2\": \"two\"}\n",
      "metodo(1, **kwargs)"
     ],
     "language": "python",
     "metadata": {},
     "outputs": [
      {
       "output_type": "stream",
       "stream": "stdout",
       "text": [
        "arg1: 1\n",
        "arg2: two\n",
        "arg3: 3\n"
       ]
      }
     ],
     "prompt_number": 17
    },
    {
     "cell_type": "markdown",
     "metadata": {},
     "source": [
      "De forma casi an\u00e1loga, *args se refiere a un \"Non-keyworded variable length argument list\", la principal diferencia es que \n",
      "la lista de argumentos contiene simplemente los valores, sin los keywords (guardada en una lista):"
     ]
    },
    {
     "cell_type": "code",
     "collapsed": false,
     "input": [
      "def metodo2(f_arg, *argv):\n",
      "    print(\"primer arg normal: {}\".format(f_arg))\n",
      "    for arg in argv:\n",
      "        print(\"siguiente argumento de *argv : {}\".format(arg))\n",
      "\n",
      "metodo2('hola','como','va','todo')"
     ],
     "language": "python",
     "metadata": {},
     "outputs": [
      {
       "output_type": "stream",
       "stream": "stdout",
       "text": [
        "primer arg normal: hola\n",
        "siguiente argumento de *argv : como\n",
        "siguiente argumento de *argv : va\n",
        "siguiente argumento de *argv : todo\n"
       ]
      }
     ],
     "prompt_number": 22
    },
    {
     "cell_type": "markdown",
     "metadata": {},
     "source": [
      "<h2>Notar que cuando usamos en una llamada \\*args y \\*\\*kwargs juntos, se debe usar el siguiente orden: alguna_funcion(f_args,\\*args,\\*\\*kwargs) </h2>\n",
      "\n"
     ]
    },
    {
     "cell_type": "code",
     "collapsed": false,
     "input": [
      "class AddressHolder:\n",
      "    def __init__(self, calle='', ciudad='', numero='', comuna='',**kwargs):\n",
      "        super().__init__(**kwargs)\n",
      "        self.calle = calle\n",
      "        self.ciudad = ciudad\n",
      "        self.comuna = comuna\n",
      "        self.numero = numero\n",
      "\n",
      "\n",
      "class Contacto:\n",
      "\n",
      "    contactos_list = []\n",
      "\n",
      "    def __init__(self, nombre = '', email = '', **kwargs):\n",
      "        super().__init__(**kwargs)\n",
      "        self.nombre = nombre\n",
      "        self.email = email\n",
      "        Contacto.contactos_list.append(self)\n",
      "\n",
      "\n",
      "class Cliente(Contacto, AddressHolder):\n",
      "\n",
      "    def __init__(self, telefono='', **kwargs):\n",
      "        super().__init__(**kwargs)\n",
      "        self.telefono = telefono\n",
      "\n",
      "print(Cliente.__mro__)"
     ],
     "language": "python",
     "metadata": {},
     "outputs": [
      {
       "output_type": "stream",
       "stream": "stdout",
       "text": [
        "(<class '__main__.Cliente'>, <class '__main__.Contacto'>, <class '__main__.AddressHolder'>, <class 'object'>)\n"
       ]
      }
     ],
     "prompt_number": 35
    },
    {
     "cell_type": "code",
     "collapsed": false,
     "input": [
      "c = Cliente(nombre = 'Juan Perez', email = 'jp@gmail.com', telefono = '23542331',\n",
      "            calle = 'Pedro de Valdivia', numero = '231', comuna = 'Providencia', ciudad = 'Santiago')\n",
      "\n",
      "print(\"{}, {}, {}, {}\".format(c.nombre, c.email, c.calle, c.comuna))"
     ],
     "language": "python",
     "metadata": {},
     "outputs": [
      {
       "output_type": "stream",
       "stream": "stdout",
       "text": [
        "Juan Perez, jp@gmail.com, Pedro de Valdivia, Providencia\n"
       ]
      }
     ],
     "prompt_number": 13
    },
    {
     "cell_type": "code",
     "collapsed": false,
     "input": [],
     "language": "python",
     "metadata": {},
     "outputs": []
    }
   ],
   "metadata": {}
  }
 ]
}