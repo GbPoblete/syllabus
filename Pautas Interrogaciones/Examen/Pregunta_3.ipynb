{
 "cells": [
  {
   "cell_type": "markdown",
   "metadata": {},
   "source": [
    "#Pregunta 1\n",
    "\n",
    "## Medir el miedo de pocmon a algún fantasma\n",
    "\n",
    "Hay que revisar dos cosas\n",
    "\n",
    "1. Medida del miedo: la forma más razonable de medir el miedo a un fantasma es revisar que se mueva para el lado contrario del que se mueve el fantasma. Si el fantasma y pocmon se mueven en distintas direcciones, entonces ese caso se pone como caso que no aporta información\n",
    "2. Analizar el árbol: Lo que debían hacer es recorrer el árbol y guardar información sobre las direcciones a medida que avanzaban. Podían asumir que recibian el nodo raíz del árbol. Podían asumir que cada Nodo tiene la siguiente estructura. "
   ]
  },
  {
   "cell_type": "code",
   "execution_count": null,
   "metadata": {
    "collapsed": true
   },
   "outputs": [],
   "source": [
    "class Arbol:\n",
    "    def __init__(self, f=None, l=None, r=None, d=None, u=None, ancestros={}):\n",
    "        self.nombre = f\n",
    "        self.hijos = {'l': l, 'r': r, 'd': d, 'u': u}\n",
    "        self.ancestros = ancestros"
   ]
  },
  {
   "cell_type": "markdown",
   "metadata": {},
   "source": [
    "ancestros es un diccionario que guarda {fantasma: movimiento}"
   ]
  },
  {
   "cell_type": "markdown",
   "metadata": {},
   "source": [
    "##Repartición del puntaje\n",
    "\n",
    "- 8 puntos por la medida del miedo:\n",
    "    - 5 puntos por una medida de miedo coherente. Debe comparar las direcciones del movimiento de pocmon y del fantasma\n",
    "    - 3 puntos por manejar bien los parámetros del nodo\n",
    "- 12 puntos por recorrer bien el árbol:\n",
    "    - 4 puntos por recorrer de forma coherente el árbol\n",
    "    - 8 puntos por guardar la información acumulada del resultado de la medida, cuando se recorre el árbol\n",
    "###Descuentos\n",
    "- 0.3 puntos por cada vez que haya un error grave de sintáxis. Como máximo 3 puntos de descuento "
   ]
  },
  {
   "cell_type": "markdown",
   "metadata": {},
   "source": [
    "#Pregunta 2\n",
    "\n",
    "##Predecir el resultado de ciertos movimientos\n",
    "\n",
    "Hay que revisar dos cosas:\n",
    "\n",
    "1. Que analicen la base de datos que se les entrega y guarden nueva información de forma coherente.\n",
    "2. Luego de haber analizado, deben utilizar el árbol para generar la información que se les pedía.\n",
    "\n",
    "##Repartición del puntaje\n",
    "\n",
    "- 6 puntos por revisar la tabla con los registros de los resultados.\n",
    "    - 3 puntos por revisar el caso en que se repiten los valores de los fantasmas: 1 punto para el caso en que los outcomes son iguales y 1 para el caso en que el outcome es distinto\n",
    "    - 3 puntos por guardar la información necesaria (número de outcomes positivos y negativos) para cada entrada diferente.\n",
    "- 14 puntos por utilizar la información de la tabla para obtener lo que se pedía\n",
    "    - 4 puntos por utilizar la tabla de forma coherente\n",
    "    - 3 puntos por recorrer bien el árbol\n",
    "    - 7 puntos por obtener el % de sobrevivencia de cada una de las ramas\n",
    "        - 4 puntos por considerar que no todos los fantasmas aparecen en el árbol: si la rama tiene solo los movimientos de dos fantasmas, entonces hay que considerar todas las líneas que tienen esos movimientos para esos dos fantasmas.\n",
    "        - 3 puntos por tomar la información de la tabla y obtener el %"
   ]
  },
  {
   "cell_type": "code",
   "execution_count": null,
   "metadata": {
    "collapsed": true
   },
   "outputs": [],
   "source": []
  }
 ],
 "metadata": {
  "kernelspec": {
   "display_name": "Python 3",
   "language": "python",
   "name": "python3"
  },
  "language_info": {
   "codemirror_mode": {
    "name": "ipython",
    "version": 3
   },
   "file_extension": ".py",
   "mimetype": "text/x-python",
   "name": "python",
   "nbconvert_exporter": "python",
   "pygments_lexer": "ipython3",
   "version": "3.4.3"
  }
 },
 "nbformat": 4,
 "nbformat_minor": 0
}
